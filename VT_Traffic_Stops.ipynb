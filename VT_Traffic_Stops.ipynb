{
 "metadata": {
  "language_info": {
   "codemirror_mode": {
    "name": "ipython",
    "version": 3
   },
   "file_extension": ".py",
   "mimetype": "text/x-python",
   "name": "python",
   "nbconvert_exporter": "python",
   "pygments_lexer": "ipython3",
   "version": "3.8.2"
  },
  "orig_nbformat": 4,
  "kernelspec": {
   "name": "python3",
   "display_name": "Python 3.8.2  ('env': venv)"
  },
  "interpreter": {
   "hash": "0ec935a686d670123bc59e022a08e50f791f70e365cdb6b3010d784ddac8af0b"
  }
 },
 "nbformat": 4,
 "nbformat_minor": 2,
 "cells": [
  {
   "cell_type": "code",
   "execution_count": 1,
   "metadata": {},
   "outputs": [],
   "source": [
    "import pandas as pd"
   ]
  },
  {
   "cell_type": "code",
   "execution_count": 3,
   "metadata": {},
   "outputs": [],
   "source": [
    "vt=pd.read_csv('vt_burlington.csv')\n"
   ]
  },
  {
   "cell_type": "code",
   "execution_count": 4,
   "metadata": {},
   "outputs": [
    {
     "output_type": "stream",
     "name": "stdout",
     "text": [
      "  raw_row_number        date      time  \\\n0           5223  2012-10-10  00:46:00   \n1           5224  2012-10-10  00:57:00   \n2           5225  2012-10-10  01:01:00   \n3           5226  2012-10-10  01:32:00   \n4           5227  2012-10-10  02:31:00   \n\n                                          location        lat        lng  \\\n0          North Ave at Convent Sq, Burlington, VT  44.488673 -73.225712   \n1       North St at N Winooski Ave, Burlington, VT  44.484809 -73.211471   \n2            North Ave at North St, Burlington, VT  44.484429 -73.222334   \n3  North Ave at Rt 127 exit, Burlington, VT, 05408        NaN        NaN   \n4             Main St at Summit St, Burlington, VT  44.476286 -73.202400   \n\n   subject_age subject_race subject_sex               department_name  ...  \\\n0         55.0        white        male  Burlington Police Department  ...   \n1         22.0        white        male  Burlington Police Department  ...   \n2         45.0        white        male  Burlington Police Department  ...   \n3         27.0        white        male  Burlington Police Department  ...   \n4         26.0        white      female  Burlington Police Department  ...   \n\n  contraband_found search_conducted search_basis reason_for_search  \\\n0              NaN            False          NaN               NaN   \n1              NaN            False          NaN               NaN   \n2              NaN            False          NaN               NaN   \n3              NaN            False          NaN               NaN   \n4              NaN            False          NaN               NaN   \n\n         reason_for_stop vehicle_registration_state raw_race  raw_gender  \\\n0   M = Moving violation                        NaN    White    Male - M   \n1  V = Vehicle equipment                         NH    White    Male - M   \n2   M = Moving violation                        NaN    White    Male - M   \n3   M = Moving violation                        NaN    White    Male - M   \n4  V = Vehicle equipment                         NJ    White  Female - F   \n\n          raw_contraband_evidence raw_outcome_of_stop  \n0  X = Not applicable / no search         W = Warning  \n1  X = Not applicable / no search         W = Warning  \n2  X = Not applicable / no search          T = Ticket  \n3  X = Not applicable / no search         W = Warning  \n4  X = Not applicable / no search         W = Warning  \n\n[5 rows x 26 columns]\n"
     ]
    }
   ],
   "source": [
    "print(vt.head())"
   ]
  },
  {
   "cell_type": "code",
   "execution_count": 5,
   "metadata": {},
   "outputs": [
    {
     "output_type": "execute_result",
     "data": {
      "text/plain": [
       "       raw_row_number   date   time  location    lat    lng  subject_age  \\\n",
       "0               False  False  False     False  False  False        False   \n",
       "1               False  False  False     False  False  False        False   \n",
       "2               False  False  False     False  False  False        False   \n",
       "3               False  False  False     False   True   True        False   \n",
       "4               False  False  False     False  False  False        False   \n",
       "...               ...    ...    ...       ...    ...    ...          ...   \n",
       "31505           False  False  False     False  False  False        False   \n",
       "31506           False  False  False     False  False  False        False   \n",
       "31507           False  False  False     False  False  False         True   \n",
       "31508           False  False  False     False  False  False        False   \n",
       "31509           False  False  False     False  False  False        False   \n",
       "\n",
       "       subject_race  subject_sex  department_name  ...  contraband_found  \\\n",
       "0             False        False            False  ...              True   \n",
       "1             False        False            False  ...              True   \n",
       "2             False        False            False  ...              True   \n",
       "3             False        False            False  ...              True   \n",
       "4             False        False            False  ...              True   \n",
       "...             ...          ...              ...  ...               ...   \n",
       "31505         False        False            False  ...              True   \n",
       "31506         False        False            False  ...              True   \n",
       "31507         False         True            False  ...              True   \n",
       "31508         False        False            False  ...              True   \n",
       "31509         False        False            False  ...              True   \n",
       "\n",
       "       search_conducted  search_basis  reason_for_search  reason_for_stop  \\\n",
       "0                 False          True               True            False   \n",
       "1                 False          True               True            False   \n",
       "2                 False          True               True            False   \n",
       "3                 False          True               True            False   \n",
       "4                 False          True               True            False   \n",
       "...                 ...           ...                ...              ...   \n",
       "31505             False          True               True            False   \n",
       "31506             False          True               True            False   \n",
       "31507             False          True               True            False   \n",
       "31508             False          True               True            False   \n",
       "31509             False          True               True            False   \n",
       "\n",
       "       vehicle_registration_state  raw_race  raw_gender  \\\n",
       "0                            True     False       False   \n",
       "1                           False     False       False   \n",
       "2                            True     False       False   \n",
       "3                            True     False       False   \n",
       "4                           False     False       False   \n",
       "...                           ...       ...         ...   \n",
       "31505                        True     False       False   \n",
       "31506                        True     False       False   \n",
       "31507                        True     False        True   \n",
       "31508                        True     False       False   \n",
       "31509                       False     False       False   \n",
       "\n",
       "       raw_contraband_evidence  raw_outcome_of_stop  \n",
       "0                        False                False  \n",
       "1                        False                False  \n",
       "2                        False                False  \n",
       "3                        False                False  \n",
       "4                        False                False  \n",
       "...                        ...                  ...  \n",
       "31505                    False                False  \n",
       "31506                    False                False  \n",
       "31507                    False                False  \n",
       "31508                    False                False  \n",
       "31509                    False                False  \n",
       "\n",
       "[31510 rows x 26 columns]"
      ],
      "text/html": "<div>\n<style scoped>\n    .dataframe tbody tr th:only-of-type {\n        vertical-align: middle;\n    }\n\n    .dataframe tbody tr th {\n        vertical-align: top;\n    }\n\n    .dataframe thead th {\n        text-align: right;\n    }\n</style>\n<table border=\"1\" class=\"dataframe\">\n  <thead>\n    <tr style=\"text-align: right;\">\n      <th></th>\n      <th>raw_row_number</th>\n      <th>date</th>\n      <th>time</th>\n      <th>location</th>\n      <th>lat</th>\n      <th>lng</th>\n      <th>subject_age</th>\n      <th>subject_race</th>\n      <th>subject_sex</th>\n      <th>department_name</th>\n      <th>...</th>\n      <th>contraband_found</th>\n      <th>search_conducted</th>\n      <th>search_basis</th>\n      <th>reason_for_search</th>\n      <th>reason_for_stop</th>\n      <th>vehicle_registration_state</th>\n      <th>raw_race</th>\n      <th>raw_gender</th>\n      <th>raw_contraband_evidence</th>\n      <th>raw_outcome_of_stop</th>\n    </tr>\n  </thead>\n  <tbody>\n    <tr>\n      <th>0</th>\n      <td>False</td>\n      <td>False</td>\n      <td>False</td>\n      <td>False</td>\n      <td>False</td>\n      <td>False</td>\n      <td>False</td>\n      <td>False</td>\n      <td>False</td>\n      <td>False</td>\n      <td>...</td>\n      <td>True</td>\n      <td>False</td>\n      <td>True</td>\n      <td>True</td>\n      <td>False</td>\n      <td>True</td>\n      <td>False</td>\n      <td>False</td>\n      <td>False</td>\n      <td>False</td>\n    </tr>\n    <tr>\n      <th>1</th>\n      <td>False</td>\n      <td>False</td>\n      <td>False</td>\n      <td>False</td>\n      <td>False</td>\n      <td>False</td>\n      <td>False</td>\n      <td>False</td>\n      <td>False</td>\n      <td>False</td>\n      <td>...</td>\n      <td>True</td>\n      <td>False</td>\n      <td>True</td>\n      <td>True</td>\n      <td>False</td>\n      <td>False</td>\n      <td>False</td>\n      <td>False</td>\n      <td>False</td>\n      <td>False</td>\n    </tr>\n    <tr>\n      <th>2</th>\n      <td>False</td>\n      <td>False</td>\n      <td>False</td>\n      <td>False</td>\n      <td>False</td>\n      <td>False</td>\n      <td>False</td>\n      <td>False</td>\n      <td>False</td>\n      <td>False</td>\n      <td>...</td>\n      <td>True</td>\n      <td>False</td>\n      <td>True</td>\n      <td>True</td>\n      <td>False</td>\n      <td>True</td>\n      <td>False</td>\n      <td>False</td>\n      <td>False</td>\n      <td>False</td>\n    </tr>\n    <tr>\n      <th>3</th>\n      <td>False</td>\n      <td>False</td>\n      <td>False</td>\n      <td>False</td>\n      <td>True</td>\n      <td>True</td>\n      <td>False</td>\n      <td>False</td>\n      <td>False</td>\n      <td>False</td>\n      <td>...</td>\n      <td>True</td>\n      <td>False</td>\n      <td>True</td>\n      <td>True</td>\n      <td>False</td>\n      <td>True</td>\n      <td>False</td>\n      <td>False</td>\n      <td>False</td>\n      <td>False</td>\n    </tr>\n    <tr>\n      <th>4</th>\n      <td>False</td>\n      <td>False</td>\n      <td>False</td>\n      <td>False</td>\n      <td>False</td>\n      <td>False</td>\n      <td>False</td>\n      <td>False</td>\n      <td>False</td>\n      <td>False</td>\n      <td>...</td>\n      <td>True</td>\n      <td>False</td>\n      <td>True</td>\n      <td>True</td>\n      <td>False</td>\n      <td>False</td>\n      <td>False</td>\n      <td>False</td>\n      <td>False</td>\n      <td>False</td>\n    </tr>\n    <tr>\n      <th>...</th>\n      <td>...</td>\n      <td>...</td>\n      <td>...</td>\n      <td>...</td>\n      <td>...</td>\n      <td>...</td>\n      <td>...</td>\n      <td>...</td>\n      <td>...</td>\n      <td>...</td>\n      <td>...</td>\n      <td>...</td>\n      <td>...</td>\n      <td>...</td>\n      <td>...</td>\n      <td>...</td>\n      <td>...</td>\n      <td>...</td>\n      <td>...</td>\n      <td>...</td>\n      <td>...</td>\n    </tr>\n    <tr>\n      <th>31505</th>\n      <td>False</td>\n      <td>False</td>\n      <td>False</td>\n      <td>False</td>\n      <td>False</td>\n      <td>False</td>\n      <td>False</td>\n      <td>False</td>\n      <td>False</td>\n      <td>False</td>\n      <td>...</td>\n      <td>True</td>\n      <td>False</td>\n      <td>True</td>\n      <td>True</td>\n      <td>False</td>\n      <td>True</td>\n      <td>False</td>\n      <td>False</td>\n      <td>False</td>\n      <td>False</td>\n    </tr>\n    <tr>\n      <th>31506</th>\n      <td>False</td>\n      <td>False</td>\n      <td>False</td>\n      <td>False</td>\n      <td>False</td>\n      <td>False</td>\n      <td>False</td>\n      <td>False</td>\n      <td>False</td>\n      <td>False</td>\n      <td>...</td>\n      <td>True</td>\n      <td>False</td>\n      <td>True</td>\n      <td>True</td>\n      <td>False</td>\n      <td>True</td>\n      <td>False</td>\n      <td>False</td>\n      <td>False</td>\n      <td>False</td>\n    </tr>\n    <tr>\n      <th>31507</th>\n      <td>False</td>\n      <td>False</td>\n      <td>False</td>\n      <td>False</td>\n      <td>False</td>\n      <td>False</td>\n      <td>True</td>\n      <td>False</td>\n      <td>True</td>\n      <td>False</td>\n      <td>...</td>\n      <td>True</td>\n      <td>False</td>\n      <td>True</td>\n      <td>True</td>\n      <td>False</td>\n      <td>True</td>\n      <td>False</td>\n      <td>True</td>\n      <td>False</td>\n      <td>False</td>\n    </tr>\n    <tr>\n      <th>31508</th>\n      <td>False</td>\n      <td>False</td>\n      <td>False</td>\n      <td>False</td>\n      <td>False</td>\n      <td>False</td>\n      <td>False</td>\n      <td>False</td>\n      <td>False</td>\n      <td>False</td>\n      <td>...</td>\n      <td>True</td>\n      <td>False</td>\n      <td>True</td>\n      <td>True</td>\n      <td>False</td>\n      <td>True</td>\n      <td>False</td>\n      <td>False</td>\n      <td>False</td>\n      <td>False</td>\n    </tr>\n    <tr>\n      <th>31509</th>\n      <td>False</td>\n      <td>False</td>\n      <td>False</td>\n      <td>False</td>\n      <td>False</td>\n      <td>False</td>\n      <td>False</td>\n      <td>False</td>\n      <td>False</td>\n      <td>False</td>\n      <td>...</td>\n      <td>True</td>\n      <td>False</td>\n      <td>True</td>\n      <td>True</td>\n      <td>False</td>\n      <td>False</td>\n      <td>False</td>\n      <td>False</td>\n      <td>False</td>\n      <td>False</td>\n    </tr>\n  </tbody>\n</table>\n<p>31510 rows × 26 columns</p>\n</div>"
     },
     "metadata": {},
     "execution_count": 5
    }
   ],
   "source": [
    "vt.isnull()"
   ]
  },
  {
   "cell_type": "code",
   "execution_count": 6,
   "metadata": {},
   "outputs": [
    {
     "output_type": "execute_result",
     "data": {
      "text/plain": [
       "raw_row_number                    0\n",
       "date                              0\n",
       "time                              0\n",
       "location                          0\n",
       "lat                             407\n",
       "lng                             407\n",
       "subject_age                     622\n",
       "subject_race                   1062\n",
       "subject_sex                     796\n",
       "department_name                   0\n",
       "type                              0\n",
       "violation                         2\n",
       "arrest_made                     269\n",
       "citation_issued                 269\n",
       "warning_issued                  269\n",
       "outcome                         281\n",
       "contraband_found              31124\n",
       "search_conducted                  0\n",
       "search_basis                  31124\n",
       "reason_for_search             31124\n",
       "reason_for_stop                 418\n",
       "vehicle_registration_state    26002\n",
       "raw_race                       1040\n",
       "raw_gender                      783\n",
       "raw_contraband_evidence         449\n",
       "raw_outcome_of_stop             269\n",
       "dtype: int64"
      ]
     },
     "metadata": {},
     "execution_count": 6
    }
   ],
   "source": [
    "vt.isnull().sum()\n"
   ]
  },
  {
   "cell_type": "code",
   "execution_count": 7,
   "metadata": {},
   "outputs": [],
   "source": [
    "vt.drop('search_basis', axis='columns', inplace=True)"
   ]
  },
  {
   "cell_type": "code",
   "execution_count": 8,
   "metadata": {},
   "outputs": [],
   "source": [
    "vt.drop('reason_for_search', axis='columns', inplace=True)"
   ]
  },
  {
   "cell_type": "code",
   "execution_count": 9,
   "metadata": {},
   "outputs": [
    {
     "output_type": "execute_result",
     "data": {
      "text/plain": [
       "(31510, 24)"
      ]
     },
     "metadata": {},
     "execution_count": 9
    }
   ],
   "source": [
    "vt.shape"
   ]
  },
  {
   "cell_type": "code",
   "execution_count": 10,
   "metadata": {},
   "outputs": [],
   "source": [
    "vt.drop('contraband_found', axis='columns', inplace=True)"
   ]
  },
  {
   "cell_type": "code",
   "execution_count": 11,
   "metadata": {},
   "outputs": [
    {
     "output_type": "execute_result",
     "data": {
      "text/plain": [
       "(31510, 23)"
      ]
     },
     "metadata": {},
     "execution_count": 11
    }
   ],
   "source": [
    "vt.shape"
   ]
  },
  {
   "cell_type": "code",
   "execution_count": 12,
   "metadata": {},
   "outputs": [
    {
     "output_type": "execute_result",
     "data": {
      "text/plain": [
       "raw_row_number                 object\n",
       "date                           object\n",
       "time                           object\n",
       "location                       object\n",
       "lat                           float64\n",
       "lng                           float64\n",
       "subject_age                   float64\n",
       "subject_race                   object\n",
       "subject_sex                    object\n",
       "department_name                object\n",
       "type                           object\n",
       "violation                      object\n",
       "arrest_made                    object\n",
       "citation_issued                object\n",
       "warning_issued                 object\n",
       "outcome                        object\n",
       "search_conducted                 bool\n",
       "reason_for_stop                object\n",
       "vehicle_registration_state     object\n",
       "raw_race                       object\n",
       "raw_gender                     object\n",
       "raw_contraband_evidence        object\n",
       "raw_outcome_of_stop            object\n",
       "dtype: object"
      ]
     },
     "metadata": {},
     "execution_count": 12
    }
   ],
   "source": [
    "vt.dtypes"
   ]
  },
  {
   "cell_type": "code",
   "execution_count": 13,
   "metadata": {},
   "outputs": [
    {
     "output_type": "execute_result",
     "data": {
      "text/plain": [
       "0        2012-10-10\n",
       "1        2012-10-10\n",
       "2        2012-10-10\n",
       "3        2012-10-10\n",
       "4        2012-10-10\n",
       "            ...    \n",
       "31505    2017-09-09\n",
       "31506    2017-09-09\n",
       "31507    2017-09-09\n",
       "31508    2017-09-09\n",
       "31509    2017-09-09\n",
       "Name: date, Length: 31510, dtype: object"
      ]
     },
     "metadata": {},
     "execution_count": 13
    }
   ],
   "source": [
    "vt.date.str.replace('/', '-')"
   ]
  },
  {
   "cell_type": "code",
   "execution_count": 14,
   "metadata": {},
   "outputs": [],
   "source": [
    "combined=vt.date.str.cat(vt.time, sep=' ')"
   ]
  },
  {
   "cell_type": "code",
   "execution_count": 15,
   "metadata": {},
   "outputs": [],
   "source": [
    "vt['datetime']=pd.to_datetime(combined)"
   ]
  },
  {
   "cell_type": "code",
   "execution_count": 16,
   "metadata": {},
   "outputs": [],
   "source": [
    "vt.set_index('datetime', inplace=True)"
   ]
  },
  {
   "cell_type": "code",
   "execution_count": 17,
   "metadata": {},
   "outputs": [
    {
     "output_type": "stream",
     "name": "stdout",
     "text": [
      "DatetimeIndex(['2012-10-10 00:46:00', '2012-10-10 00:57:00',\n               '2012-10-10 01:01:00', '2012-10-10 01:32:00',\n               '2012-10-10 02:31:00', '2012-10-10 05:58:00',\n               '2012-10-10 06:09:00', '2012-10-10 08:21:00',\n               '2012-10-10 08:21:00', '2012-10-10 08:33:00',\n               ...\n               '2017-09-09 01:36:00', '2017-09-09 09:27:00',\n               '2017-09-09 10:05:00', '2017-09-09 20:16:00',\n               '2017-09-09 20:28:00', '2017-09-09 21:59:00',\n               '2017-09-09 22:51:00', '2017-09-09 23:01:00',\n               '2017-09-09 23:16:00', '2017-09-09 23:44:00'],\n              dtype='datetime64[ns]', name='datetime', length=31510, freq=None)\n"
     ]
    }
   ],
   "source": [
    "print(vt.index)"
   ]
  },
  {
   "cell_type": "code",
   "execution_count": 18,
   "metadata": {},
   "outputs": [],
   "source": [
    "vt['arrest_made'] = vt.arrest_made.astype('bool')"
   ]
  },
  {
   "cell_type": "code",
   "execution_count": 19,
   "metadata": {},
   "outputs": [
    {
     "output_type": "stream",
     "name": "stdout",
     "text": [
      "bool\n"
     ]
    }
   ],
   "source": [
    "print(vt.arrest_made.dtype)"
   ]
  },
  {
   "cell_type": "code",
   "execution_count": 20,
   "metadata": {},
   "outputs": [
    {
     "output_type": "stream",
     "name": "stdout",
     "text": [
      "datetime\n2012-10-10 00:46:00    False\n2012-10-10 00:57:00    False\n2012-10-10 01:01:00     True\n2012-10-10 01:32:00    False\n2012-10-10 02:31:00    False\nName: citation_issued, dtype: object\n"
     ]
    }
   ],
   "source": [
    "print(vt.citation_issued.head())"
   ]
  },
  {
   "cell_type": "code",
   "execution_count": 21,
   "metadata": {},
   "outputs": [],
   "source": [
    "vt['citation_issued']=vt.citation_issued.astype('bool')"
   ]
  },
  {
   "cell_type": "code",
   "execution_count": 22,
   "metadata": {},
   "outputs": [
    {
     "output_type": "stream",
     "name": "stdout",
     "text": [
      "datetime\n2012-10-10 00:46:00     True\n2012-10-10 00:57:00     True\n2012-10-10 01:01:00    False\n2012-10-10 01:32:00     True\n2012-10-10 02:31:00     True\nName: warning_issued, dtype: object\n"
     ]
    }
   ],
   "source": [
    "print(vt.warning_issued.head())"
   ]
  },
  {
   "cell_type": "code",
   "execution_count": 23,
   "metadata": {},
   "outputs": [],
   "source": [
    "vt['warning_issued']=vt.warning_issued.astype('bool')"
   ]
  },
  {
   "cell_type": "code",
   "execution_count": 24,
   "metadata": {},
   "outputs": [
    {
     "output_type": "execute_result",
     "data": {
      "text/plain": [
       "raw_row_number                 object\n",
       "date                           object\n",
       "time                           object\n",
       "location                       object\n",
       "lat                           float64\n",
       "lng                           float64\n",
       "subject_age                   float64\n",
       "subject_race                   object\n",
       "subject_sex                    object\n",
       "department_name                object\n",
       "type                           object\n",
       "violation                      object\n",
       "arrest_made                      bool\n",
       "citation_issued                  bool\n",
       "warning_issued                   bool\n",
       "outcome                        object\n",
       "search_conducted                 bool\n",
       "reason_for_stop                object\n",
       "vehicle_registration_state     object\n",
       "raw_race                       object\n",
       "raw_gender                     object\n",
       "raw_contraband_evidence        object\n",
       "raw_outcome_of_stop            object\n",
       "dtype: object"
      ]
     },
     "metadata": {},
     "execution_count": 24
    }
   ],
   "source": [
    "vt.dtypes"
   ]
  },
  {
   "cell_type": "code",
   "execution_count": 25,
   "metadata": {},
   "outputs": [
    {
     "output_type": "execute_result",
     "data": {
      "text/plain": [
       "raw_row_number                    0\n",
       "date                              0\n",
       "time                              0\n",
       "location                          0\n",
       "lat                             407\n",
       "lng                             407\n",
       "subject_age                     622\n",
       "subject_race                   1062\n",
       "subject_sex                     796\n",
       "department_name                   0\n",
       "type                              0\n",
       "violation                         2\n",
       "arrest_made                       0\n",
       "citation_issued                   0\n",
       "warning_issued                    0\n",
       "outcome                         281\n",
       "search_conducted                  0\n",
       "reason_for_stop                 418\n",
       "vehicle_registration_state    26002\n",
       "raw_race                       1040\n",
       "raw_gender                      783\n",
       "raw_contraband_evidence         449\n",
       "raw_outcome_of_stop             269\n",
       "dtype: int64"
      ]
     },
     "metadata": {},
     "execution_count": 25
    }
   ],
   "source": [
    "vt.isnull().sum()"
   ]
  },
  {
   "cell_type": "code",
   "execution_count": 26,
   "metadata": {},
   "outputs": [],
   "source": [
    "vt.dropna(subset=['subject_sex'], inplace=True)"
   ]
  },
  {
   "cell_type": "code",
   "execution_count": 27,
   "metadata": {},
   "outputs": [
    {
     "output_type": "execute_result",
     "data": {
      "text/plain": [
       "raw_row_number                    0\n",
       "date                              0\n",
       "time                              0\n",
       "location                          0\n",
       "lat                             389\n",
       "lng                             389\n",
       "subject_age                      81\n",
       "subject_race                    420\n",
       "subject_sex                       0\n",
       "department_name                   0\n",
       "type                              0\n",
       "violation                         2\n",
       "arrest_made                       0\n",
       "citation_issued                   0\n",
       "warning_issued                    0\n",
       "outcome                         241\n",
       "search_conducted                  0\n",
       "reason_for_stop                 374\n",
       "vehicle_registration_state    25267\n",
       "raw_race                        398\n",
       "raw_gender                        0\n",
       "raw_contraband_evidence         400\n",
       "raw_outcome_of_stop             233\n",
       "dtype: int64"
      ]
     },
     "metadata": {},
     "execution_count": 27
    }
   ],
   "source": [
    "vt.isnull().sum()"
   ]
  },
  {
   "cell_type": "code",
   "execution_count": 28,
   "metadata": {},
   "outputs": [
    {
     "output_type": "stream",
     "name": "stdout",
     "text": [
      "(30714, 23)\n"
     ]
    }
   ],
   "source": [
    "print(vt.shape)"
   ]
  },
  {
   "cell_type": "code",
   "execution_count": 29,
   "metadata": {},
   "outputs": [
    {
     "output_type": "stream",
     "name": "stdout",
     "text": [
      "DEF - Condition Of Vehicle                                                                                      4724\nVO - Regulations In Municipalities                                                                              3909\nVNI - Vehicle Not Inspected Within 15 Days Of Vt. Registration                                                  3038\nIR - Illuminations Required                                                                                     2031\nSL1 - 1-10 MPH Over Speed Limit                                                                                 1903\n                                                                                                                ... \nFOO - Failure To Obey An Officer|SL1 - 1-10 MPH Over Speed Limit                                                   1\nSL1 - 1-10 MPH Over Speed Limit|PL - Possession Of License Certificate                                             1\nIX4 - Inspection expired within 14 days|INS - Operating Without Liability Insurance                                1\nDR - Failing To Driving To The Right|VO - Regulations In Municipalities                                            1\nVO - Regulations In Municipalities|LES - Unreasonable And Imprudent Speed When Special Hazards Exist - Local       1\nName: violation, Length: 965, dtype: int64\n"
     ]
    }
   ],
   "source": [
    "print(vt.violation.value_counts())"
   ]
  },
  {
   "cell_type": "code",
   "execution_count": 30,
   "metadata": {},
   "outputs": [],
   "source": [
    "violations = vt.violation.value_counts()"
   ]
  },
  {
   "cell_type": "code",
   "execution_count": 31,
   "metadata": {},
   "outputs": [
    {
     "output_type": "stream",
     "name": "stdout",
     "text": [
      "DEF - Condition Of Vehicle                                                                                      0.153816\nVO - Regulations In Municipalities                                                                              0.127279\nVNI - Vehicle Not Inspected Within 15 Days Of Vt. Registration                                                  0.098919\nIR - Illuminations Required                                                                                     0.066131\nSL1 - 1-10 MPH Over Speed Limit                                                                                 0.061963\n                                                                                                                  ...   \nFOO - Failure To Obey An Officer|SL1 - 1-10 MPH Over Speed Limit                                                0.000033\nSL1 - 1-10 MPH Over Speed Limit|PL - Possession Of License Certificate                                          0.000033\nIX4 - Inspection expired within 14 days|INS - Operating Without Liability Insurance                             0.000033\nDR - Failing To Driving To The Right|VO - Regulations In Municipalities                                         0.000033\nVO - Regulations In Municipalities|LES - Unreasonable And Imprudent Speed When Special Hazards Exist - Local    0.000033\nName: violation, Length: 965, dtype: float64\n"
     ]
    }
   ],
   "source": [
    "print(vt.violation.value_counts(normalize=True))"
   ]
  },
  {
   "cell_type": "code",
   "execution_count": 32,
   "metadata": {},
   "outputs": [],
   "source": [
    "female=vt[vt.subject_sex == 'female']"
   ]
  },
  {
   "cell_type": "code",
   "execution_count": 33,
   "metadata": {},
   "outputs": [],
   "source": [
    "male=vt[vt.subject_sex == 'male']"
   ]
  },
  {
   "cell_type": "code",
   "execution_count": 34,
   "metadata": {},
   "outputs": [
    {
     "output_type": "stream",
     "name": "stdout",
     "text": [
      "DEF - Condition Of Vehicle                                                                                                                                             0.160645\nVO - Regulations In Municipalities                                                                                                                                     0.128466\nVNI - Vehicle Not Inspected Within 15 Days Of Vt. Registration                                                                                                         0.094270\nIR - Illuminations Required                                                                                                                                            0.077718\nSL2 - 11-20 MPH Over Speed Limit                                                                                                                                       0.061250\n                                                                                                                                                                         ...   \nHandheld portable electronic device in workzone - 1st Violation                                                                                                        0.000084\nDEF - Condition Of Vehicle|SL2 - 11-20 MPH Over Speed Limit                                                                                                            0.000084\nVNI - Vehicle Not Inspected Within 15 Days Of Vt. Registration|FYY - Stop Sign                                                                                         0.000084\nINS - Operating Without Liability Insurance|DSL - Directional Signal Lamps                                                                                             0.000084\nVNI - Vehicle Not Inspected Within 15 Days Of Vt. Registration|TCS - Traffic Control Signals|FYL - Vehicle Turning Left|INS - Operating Without Liability Insurance    0.000084\nName: violation, Length: 477, dtype: float64\n"
     ]
    }
   ],
   "source": [
    "#Female drivers as a proportion\n",
    "print(female.violation.value_counts(normalize=True))"
   ]
  },
  {
   "cell_type": "code",
   "execution_count": 35,
   "metadata": {},
   "outputs": [
    {
     "output_type": "stream",
     "name": "stdout",
     "text": [
      "DEF - Condition Of Vehicle                                                                                                                       0.149495\nVO - Regulations In Municipalities                                                                                                               0.126528\nVNI - Vehicle Not Inspected Within 15 Days Of Vt. Registration                                                                                   0.101861\nSL1 - 1-10 MPH Over Speed Limit                                                                                                                  0.065444\nIR - Illuminations Required                                                                                                                      0.058799\n                                                                                                                                                   ...   \nINS - Operating Without Liability Insurance|VNI - Vehicle Not Inspected Within 15 Days Of Vt. Registration|VO - Regulations In Municipalities    0.000053\nLOP - Limitations On Passing|SIG - Signals Required                                                                                              0.000053\nSL2 - 11-20 MPH Over Speed Limit|TCD - Obedience To Traffic Control Devices                                                                      0.000053\nSCL - Sirens And Colored Lamps                                                                                                                   0.000053\nORR - One-Way Roadways And Rotaries|FS - Flashing Signals                                                                                        0.000053\nName: violation, Length: 762, dtype: float64\n"
     ]
    }
   ],
   "source": [
    "#Male Violations by proportion\n",
    "print(male.violation.value_counts(normalize=True))"
   ]
  },
  {
   "cell_type": "code",
   "execution_count": 36,
   "metadata": {},
   "outputs": [],
   "source": [
    "#dataframe of female drivers stopped for speeding\n",
    "female_speeding_SL1 = vt[(vt.subject_sex == 'female') & (vt.violation == 'SL1 - 1-10 MPH Over Speed Limit')]\n"
   ]
  },
  {
   "cell_type": "code",
   "execution_count": 83,
   "metadata": {},
   "outputs": [],
   "source": [
    "male_speeding_SL1 = vt[(vt.subject_sex == 'male') & (vt.violation == 'SL1 - 1-10 MPH Over Speed Limit')]"
   ]
  },
  {
   "cell_type": "code",
   "execution_count": 84,
   "metadata": {},
   "outputs": [
    {
     "output_type": "stream",
     "name": "stdout",
     "text": [
      "warning     0.796735\ncitation    0.198367\narrest      0.004898\nName: outcome, dtype: float64\n"
     ]
    }
   ],
   "source": [
    "print(male_speeding_SL1.outcome.value_counts(normalize=True))"
   ]
  },
  {
   "cell_type": "code",
   "execution_count": 85,
   "metadata": {},
   "outputs": [
    {
     "output_type": "stream",
     "name": "stdout",
     "text": [
      "bool\n"
     ]
    }
   ],
   "source": [
    "print(vt.search_conducted.dtype)"
   ]
  },
  {
   "cell_type": "code",
   "execution_count": 86,
   "metadata": {},
   "outputs": [
    {
     "output_type": "stream",
     "name": "stdout",
     "text": [
      "False    0.987758\nTrue     0.012242\nName: search_conducted, dtype: float64\n"
     ]
    }
   ],
   "source": [
    "print(vt.search_conducted.value_counts(normalize=True))"
   ]
  },
  {
   "cell_type": "code",
   "execution_count": 87,
   "metadata": {},
   "outputs": [
    {
     "output_type": "stream",
     "name": "stdout",
     "text": [
      "0.012241974343947385\n"
     ]
    }
   ],
   "source": [
    "#search rate by taking the mean\n",
    "print(vt.search_conducted.mean())"
   ]
  },
  {
   "cell_type": "code",
   "execution_count": 88,
   "metadata": {},
   "outputs": [
    {
     "output_type": "stream",
     "name": "stdout",
     "text": [
      "0.006637539909258948\n"
     ]
    }
   ],
   "source": [
    "#Search Rate for female drivers\n",
    "print(vt[vt.subject_sex == 'female'].search_conducted.mean())"
   ]
  },
  {
   "cell_type": "code",
   "execution_count": 89,
   "metadata": {},
   "outputs": [
    {
     "output_type": "stream",
     "name": "stdout",
     "text": [
      "subject_sex  violation                                                                                                                                                                  \nfemale       05028 - Confinement of Animals in Vehicles                                                                                                                                     0.0\n             21A - Person under 21- Alcohol concentration of 0.02 or more                                                                                                                   0.0\n             21A - Person under 21- Alcohol concentration of 0.02 or more|IR - Illuminations Required                                                                                       0.0\n             21A - Person under 21- Alcohol concentration of 0.02 or more|LCS - Lane Control Signals                                                                                        0.0\n             21A - Person under 21- Alcohol concentration of 0.02 or more|SL1 - 1-10 MPH Over Speed Limit|DLT - Driving On Roadways Laned For Traffic                                       0.0\n                                                                                                                                                                                           ... \nmale         VO - Regulations In Municipalities|TXD - Texting While Operating Moving Motor Vehicle - 1st Offense                                                                            0.0\n             VO - Regulations In Municipalities|VNI - Vehicle Not Inspected Within 15 Days Of Vt. Registration                                                                              0.0\n             VO - Regulations In Municipalities|VNI - Vehicle Not Inspected Within 15 Days Of Vt. Registration|TCS - Traffic Control Signals|INS - Operating Without Liability Insurance    0.0\n             VSP - Operating without displaying validation sticker on plate                                                                                                                 0.0\n             WS - Warning Signal (Horn)                                                                                                                                                     0.0\nName: search_conducted, Length: 1239, dtype: float64\n"
     ]
    }
   ],
   "source": [
    "#search for gender and violation\n",
    "print(vt.groupby(['subject_sex', 'violation']).search_conducted.mean())"
   ]
  },
  {
   "cell_type": "code",
   "execution_count": 92,
   "metadata": {},
   "outputs": [],
   "source": [
    "#dataframe of stops where search was conducted\n",
    "searched=vt[vt.search_conducted == True]"
   ]
  },
  {
   "cell_type": "code",
   "execution_count": 93,
   "metadata": {},
   "outputs": [
    {
     "output_type": "stream",
     "name": "stdout",
     "text": [
      "0.01920948101842808\n"
     ]
    }
   ],
   "source": [
    "#calc arrest rate\n",
    "print(vt.arrest_made.mean())"
   ]
  },
  {
   "cell_type": "code",
   "execution_count": 94,
   "metadata": {},
   "outputs": [
    {
     "output_type": "stream",
     "name": "stdout",
     "text": [
      "datetime\n0     0.028558\n1     0.039749\n2     0.064665\n3     0.055072\n4     0.040201\n5     0.013089\n6     0.016636\n7     0.007220\n8     0.014634\n9     0.012066\n10    0.013261\n11    0.016591\n12    0.006422\n13    0.018061\n14    0.019656\n15    0.017518\n16    0.021079\n17    0.027503\n18    0.011634\n19    0.012860\n20    0.015740\n21    0.009767\n22    0.014085\n23    0.020885\nName: arrest_made, dtype: float64\n"
     ]
    }
   ],
   "source": [
    "#calc arrest rate by hour\n",
    "print(vt.groupby(vt.index.hour).arrest_made.mean())"
   ]
  },
  {
   "cell_type": "code",
   "execution_count": 96,
   "metadata": {},
   "outputs": [],
   "source": [
    "#arrest rate dataframe\n",
    "hourly_arrest_rate=vt.groupby(vt.index.hour).arrest_made.mean()"
   ]
  },
  {
   "cell_type": "code",
   "execution_count": 99,
   "metadata": {},
   "outputs": [],
   "source": [
    "import matplotlib.pyplot as plt"
   ]
  },
  {
   "cell_type": "code",
   "execution_count": 101,
   "metadata": {},
   "outputs": [
    {
     "output_type": "display_data",
     "data": {
      "text/plain": "<Figure size 432x288 with 1 Axes>",
      "image/svg+xml": "<?xml version=\"1.0\" encoding=\"utf-8\" standalone=\"no\"?>\r\n<!DOCTYPE svg PUBLIC \"-//W3C//DTD SVG 1.1//EN\"\r\n  \"http://www.w3.org/Graphics/SVG/1.1/DTD/svg11.dtd\">\r\n<svg height=\"277.314375pt\" version=\"1.1\" viewBox=\"0 0 392.14375 277.314375\" width=\"392.14375pt\" xmlns=\"http://www.w3.org/2000/svg\" xmlns:xlink=\"http://www.w3.org/1999/xlink\">\r\n <metadata>\r\n  <rdf:RDF xmlns:cc=\"http://creativecommons.org/ns#\" xmlns:dc=\"http://purl.org/dc/elements/1.1/\" xmlns:rdf=\"http://www.w3.org/1999/02/22-rdf-syntax-ns#\">\r\n   <cc:Work>\r\n    <dc:type rdf:resource=\"http://purl.org/dc/dcmitype/StillImage\"/>\r\n    <dc:date>2021-06-24T16:27:44.479827</dc:date>\r\n    <dc:format>image/svg+xml</dc:format>\r\n    <dc:creator>\r\n     <cc:Agent>\r\n      <dc:title>Matplotlib v3.4.2, https://matplotlib.org/</dc:title>\r\n     </cc:Agent>\r\n    </dc:creator>\r\n   </cc:Work>\r\n  </rdf:RDF>\r\n </metadata>\r\n <defs>\r\n  <style type=\"text/css\">*{stroke-linecap:butt;stroke-linejoin:round;}</style>\r\n </defs>\r\n <g id=\"figure_1\">\r\n  <g id=\"patch_1\">\r\n   <path d=\"M 0 277.314375 \r\nL 392.14375 277.314375 \r\nL 392.14375 0 \r\nL 0 0 \r\nz\r\n\" style=\"fill:none;\"/>\r\n  </g>\r\n  <g id=\"axes_1\">\r\n   <g id=\"patch_2\">\r\n    <path d=\"M 50.14375 239.758125 \r\nL 384.94375 239.758125 \r\nL 384.94375 22.318125 \r\nL 50.14375 22.318125 \r\nz\r\n\" style=\"fill:#ffffff;\"/>\r\n   </g>\r\n   <g id=\"matplotlib.axis_1\">\r\n    <g id=\"xtick_1\">\r\n     <g id=\"line2d_1\">\r\n      <defs>\r\n       <path d=\"M 0 0 \r\nL 0 3.5 \r\n\" id=\"m8cf3c64884\" style=\"stroke:#000000;stroke-width:0.8;\"/>\r\n      </defs>\r\n      <g>\r\n       <use style=\"stroke:#000000;stroke-width:0.8;\" x=\"65.361932\" xlink:href=\"#m8cf3c64884\" y=\"239.758125\"/>\r\n      </g>\r\n     </g>\r\n     <g id=\"text_1\">\r\n      <!-- 0 -->\r\n      <g transform=\"translate(62.180682 254.356562)scale(0.1 -0.1)\">\r\n       <defs>\r\n        <path d=\"M 2034 4250 \r\nQ 1547 4250 1301 3770 \r\nQ 1056 3291 1056 2328 \r\nQ 1056 1369 1301 889 \r\nQ 1547 409 2034 409 \r\nQ 2525 409 2770 889 \r\nQ 3016 1369 3016 2328 \r\nQ 3016 3291 2770 3770 \r\nQ 2525 4250 2034 4250 \r\nz\r\nM 2034 4750 \r\nQ 2819 4750 3233 4129 \r\nQ 3647 3509 3647 2328 \r\nQ 3647 1150 3233 529 \r\nQ 2819 -91 2034 -91 \r\nQ 1250 -91 836 529 \r\nQ 422 1150 422 2328 \r\nQ 422 3509 836 4129 \r\nQ 1250 4750 2034 4750 \r\nz\r\n\" id=\"DejaVuSans-30\" transform=\"scale(0.015625)\"/>\r\n       </defs>\r\n       <use xlink:href=\"#DejaVuSans-30\"/>\r\n      </g>\r\n     </g>\r\n    </g>\r\n    <g id=\"xtick_2\">\r\n     <g id=\"line2d_2\">\r\n      <g>\r\n       <use style=\"stroke:#000000;stroke-width:0.8;\" x=\"131.52794\" xlink:href=\"#m8cf3c64884\" y=\"239.758125\"/>\r\n      </g>\r\n     </g>\r\n     <g id=\"text_2\">\r\n      <!-- 5 -->\r\n      <g transform=\"translate(128.34669 254.356562)scale(0.1 -0.1)\">\r\n       <defs>\r\n        <path d=\"M 691 4666 \r\nL 3169 4666 \r\nL 3169 4134 \r\nL 1269 4134 \r\nL 1269 2991 \r\nQ 1406 3038 1543 3061 \r\nQ 1681 3084 1819 3084 \r\nQ 2600 3084 3056 2656 \r\nQ 3513 2228 3513 1497 \r\nQ 3513 744 3044 326 \r\nQ 2575 -91 1722 -91 \r\nQ 1428 -91 1123 -41 \r\nQ 819 9 494 109 \r\nL 494 744 \r\nQ 775 591 1075 516 \r\nQ 1375 441 1709 441 \r\nQ 2250 441 2565 725 \r\nQ 2881 1009 2881 1497 \r\nQ 2881 1984 2565 2268 \r\nQ 2250 2553 1709 2553 \r\nQ 1456 2553 1204 2497 \r\nQ 953 2441 691 2322 \r\nL 691 4666 \r\nz\r\n\" id=\"DejaVuSans-35\" transform=\"scale(0.015625)\"/>\r\n       </defs>\r\n       <use xlink:href=\"#DejaVuSans-35\"/>\r\n      </g>\r\n     </g>\r\n    </g>\r\n    <g id=\"xtick_3\">\r\n     <g id=\"line2d_3\">\r\n      <g>\r\n       <use style=\"stroke:#000000;stroke-width:0.8;\" x=\"197.693948\" xlink:href=\"#m8cf3c64884\" y=\"239.758125\"/>\r\n      </g>\r\n     </g>\r\n     <g id=\"text_3\">\r\n      <!-- 10 -->\r\n      <g transform=\"translate(191.331448 254.356562)scale(0.1 -0.1)\">\r\n       <defs>\r\n        <path d=\"M 794 531 \r\nL 1825 531 \r\nL 1825 4091 \r\nL 703 3866 \r\nL 703 4441 \r\nL 1819 4666 \r\nL 2450 4666 \r\nL 2450 531 \r\nL 3481 531 \r\nL 3481 0 \r\nL 794 0 \r\nL 794 531 \r\nz\r\n\" id=\"DejaVuSans-31\" transform=\"scale(0.015625)\"/>\r\n       </defs>\r\n       <use xlink:href=\"#DejaVuSans-31\"/>\r\n       <use x=\"63.623047\" xlink:href=\"#DejaVuSans-30\"/>\r\n      </g>\r\n     </g>\r\n    </g>\r\n    <g id=\"xtick_4\">\r\n     <g id=\"line2d_4\">\r\n      <g>\r\n       <use style=\"stroke:#000000;stroke-width:0.8;\" x=\"263.859956\" xlink:href=\"#m8cf3c64884\" y=\"239.758125\"/>\r\n      </g>\r\n     </g>\r\n     <g id=\"text_4\">\r\n      <!-- 15 -->\r\n      <g transform=\"translate(257.497456 254.356562)scale(0.1 -0.1)\">\r\n       <use xlink:href=\"#DejaVuSans-31\"/>\r\n       <use x=\"63.623047\" xlink:href=\"#DejaVuSans-35\"/>\r\n      </g>\r\n     </g>\r\n    </g>\r\n    <g id=\"xtick_5\">\r\n     <g id=\"line2d_5\">\r\n      <g>\r\n       <use style=\"stroke:#000000;stroke-width:0.8;\" x=\"330.025963\" xlink:href=\"#m8cf3c64884\" y=\"239.758125\"/>\r\n      </g>\r\n     </g>\r\n     <g id=\"text_5\">\r\n      <!-- 20 -->\r\n      <g transform=\"translate(323.663463 254.356562)scale(0.1 -0.1)\">\r\n       <defs>\r\n        <path d=\"M 1228 531 \r\nL 3431 531 \r\nL 3431 0 \r\nL 469 0 \r\nL 469 531 \r\nQ 828 903 1448 1529 \r\nQ 2069 2156 2228 2338 \r\nQ 2531 2678 2651 2914 \r\nQ 2772 3150 2772 3378 \r\nQ 2772 3750 2511 3984 \r\nQ 2250 4219 1831 4219 \r\nQ 1534 4219 1204 4116 \r\nQ 875 4013 500 3803 \r\nL 500 4441 \r\nQ 881 4594 1212 4672 \r\nQ 1544 4750 1819 4750 \r\nQ 2544 4750 2975 4387 \r\nQ 3406 4025 3406 3419 \r\nQ 3406 3131 3298 2873 \r\nQ 3191 2616 2906 2266 \r\nQ 2828 2175 2409 1742 \r\nQ 1991 1309 1228 531 \r\nz\r\n\" id=\"DejaVuSans-32\" transform=\"scale(0.015625)\"/>\r\n       </defs>\r\n       <use xlink:href=\"#DejaVuSans-32\"/>\r\n       <use x=\"63.623047\" xlink:href=\"#DejaVuSans-30\"/>\r\n      </g>\r\n     </g>\r\n    </g>\r\n    <g id=\"text_6\">\r\n     <!-- Hour -->\r\n     <g transform=\"translate(205.5 268.034687)scale(0.1 -0.1)\">\r\n      <defs>\r\n       <path d=\"M 628 4666 \r\nL 1259 4666 \r\nL 1259 2753 \r\nL 3553 2753 \r\nL 3553 4666 \r\nL 4184 4666 \r\nL 4184 0 \r\nL 3553 0 \r\nL 3553 2222 \r\nL 1259 2222 \r\nL 1259 0 \r\nL 628 0 \r\nL 628 4666 \r\nz\r\n\" id=\"DejaVuSans-48\" transform=\"scale(0.015625)\"/>\r\n       <path d=\"M 1959 3097 \r\nQ 1497 3097 1228 2736 \r\nQ 959 2375 959 1747 \r\nQ 959 1119 1226 758 \r\nQ 1494 397 1959 397 \r\nQ 2419 397 2687 759 \r\nQ 2956 1122 2956 1747 \r\nQ 2956 2369 2687 2733 \r\nQ 2419 3097 1959 3097 \r\nz\r\nM 1959 3584 \r\nQ 2709 3584 3137 3096 \r\nQ 3566 2609 3566 1747 \r\nQ 3566 888 3137 398 \r\nQ 2709 -91 1959 -91 \r\nQ 1206 -91 779 398 \r\nQ 353 888 353 1747 \r\nQ 353 2609 779 3096 \r\nQ 1206 3584 1959 3584 \r\nz\r\n\" id=\"DejaVuSans-6f\" transform=\"scale(0.015625)\"/>\r\n       <path d=\"M 544 1381 \r\nL 544 3500 \r\nL 1119 3500 \r\nL 1119 1403 \r\nQ 1119 906 1312 657 \r\nQ 1506 409 1894 409 \r\nQ 2359 409 2629 706 \r\nQ 2900 1003 2900 1516 \r\nL 2900 3500 \r\nL 3475 3500 \r\nL 3475 0 \r\nL 2900 0 \r\nL 2900 538 \r\nQ 2691 219 2414 64 \r\nQ 2138 -91 1772 -91 \r\nQ 1169 -91 856 284 \r\nQ 544 659 544 1381 \r\nz\r\nM 1991 3584 \r\nL 1991 3584 \r\nz\r\n\" id=\"DejaVuSans-75\" transform=\"scale(0.015625)\"/>\r\n       <path d=\"M 2631 2963 \r\nQ 2534 3019 2420 3045 \r\nQ 2306 3072 2169 3072 \r\nQ 1681 3072 1420 2755 \r\nQ 1159 2438 1159 1844 \r\nL 1159 0 \r\nL 581 0 \r\nL 581 3500 \r\nL 1159 3500 \r\nL 1159 2956 \r\nQ 1341 3275 1631 3429 \r\nQ 1922 3584 2338 3584 \r\nQ 2397 3584 2469 3576 \r\nQ 2541 3569 2628 3553 \r\nL 2631 2963 \r\nz\r\n\" id=\"DejaVuSans-72\" transform=\"scale(0.015625)\"/>\r\n      </defs>\r\n      <use xlink:href=\"#DejaVuSans-48\"/>\r\n      <use x=\"75.195312\" xlink:href=\"#DejaVuSans-6f\"/>\r\n      <use x=\"136.376953\" xlink:href=\"#DejaVuSans-75\"/>\r\n      <use x=\"199.755859\" xlink:href=\"#DejaVuSans-72\"/>\r\n     </g>\r\n    </g>\r\n   </g>\r\n   <g id=\"matplotlib.axis_2\">\r\n    <g id=\"ytick_1\">\r\n     <g id=\"line2d_6\">\r\n      <defs>\r\n       <path d=\"M 0 0 \r\nL -3.5 0 \r\n\" id=\"m0a4e5b7791\" style=\"stroke:#000000;stroke-width:0.8;\"/>\r\n      </defs>\r\n      <g>\r\n       <use style=\"stroke:#000000;stroke-width:0.8;\" x=\"50.14375\" xlink:href=\"#m0a4e5b7791\" y=\"217.731088\"/>\r\n      </g>\r\n     </g>\r\n     <g id=\"text_7\">\r\n      <!-- 0.01 -->\r\n      <g transform=\"translate(20.878125 221.530307)scale(0.1 -0.1)\">\r\n       <defs>\r\n        <path d=\"M 684 794 \r\nL 1344 794 \r\nL 1344 0 \r\nL 684 0 \r\nL 684 794 \r\nz\r\n\" id=\"DejaVuSans-2e\" transform=\"scale(0.015625)\"/>\r\n       </defs>\r\n       <use xlink:href=\"#DejaVuSans-30\"/>\r\n       <use x=\"63.623047\" xlink:href=\"#DejaVuSans-2e\"/>\r\n       <use x=\"95.410156\" xlink:href=\"#DejaVuSans-30\"/>\r\n       <use x=\"159.033203\" xlink:href=\"#DejaVuSans-31\"/>\r\n      </g>\r\n     </g>\r\n    </g>\r\n    <g id=\"ytick_2\">\r\n     <g id=\"line2d_7\">\r\n      <g>\r\n       <use style=\"stroke:#000000;stroke-width:0.8;\" x=\"50.14375\" xlink:href=\"#m0a4e5b7791\" y=\"183.791841\"/>\r\n      </g>\r\n     </g>\r\n     <g id=\"text_8\">\r\n      <!-- 0.02 -->\r\n      <g transform=\"translate(20.878125 187.59106)scale(0.1 -0.1)\">\r\n       <use xlink:href=\"#DejaVuSans-30\"/>\r\n       <use x=\"63.623047\" xlink:href=\"#DejaVuSans-2e\"/>\r\n       <use x=\"95.410156\" xlink:href=\"#DejaVuSans-30\"/>\r\n       <use x=\"159.033203\" xlink:href=\"#DejaVuSans-32\"/>\r\n      </g>\r\n     </g>\r\n    </g>\r\n    <g id=\"ytick_3\">\r\n     <g id=\"line2d_8\">\r\n      <g>\r\n       <use style=\"stroke:#000000;stroke-width:0.8;\" x=\"50.14375\" xlink:href=\"#m0a4e5b7791\" y=\"149.852593\"/>\r\n      </g>\r\n     </g>\r\n     <g id=\"text_9\">\r\n      <!-- 0.03 -->\r\n      <g transform=\"translate(20.878125 153.651812)scale(0.1 -0.1)\">\r\n       <defs>\r\n        <path d=\"M 2597 2516 \r\nQ 3050 2419 3304 2112 \r\nQ 3559 1806 3559 1356 \r\nQ 3559 666 3084 287 \r\nQ 2609 -91 1734 -91 \r\nQ 1441 -91 1130 -33 \r\nQ 819 25 488 141 \r\nL 488 750 \r\nQ 750 597 1062 519 \r\nQ 1375 441 1716 441 \r\nQ 2309 441 2620 675 \r\nQ 2931 909 2931 1356 \r\nQ 2931 1769 2642 2001 \r\nQ 2353 2234 1838 2234 \r\nL 1294 2234 \r\nL 1294 2753 \r\nL 1863 2753 \r\nQ 2328 2753 2575 2939 \r\nQ 2822 3125 2822 3475 \r\nQ 2822 3834 2567 4026 \r\nQ 2313 4219 1838 4219 \r\nQ 1578 4219 1281 4162 \r\nQ 984 4106 628 3988 \r\nL 628 4550 \r\nQ 988 4650 1302 4700 \r\nQ 1616 4750 1894 4750 \r\nQ 2613 4750 3031 4423 \r\nQ 3450 4097 3450 3541 \r\nQ 3450 3153 3228 2886 \r\nQ 3006 2619 2597 2516 \r\nz\r\n\" id=\"DejaVuSans-33\" transform=\"scale(0.015625)\"/>\r\n       </defs>\r\n       <use xlink:href=\"#DejaVuSans-30\"/>\r\n       <use x=\"63.623047\" xlink:href=\"#DejaVuSans-2e\"/>\r\n       <use x=\"95.410156\" xlink:href=\"#DejaVuSans-30\"/>\r\n       <use x=\"159.033203\" xlink:href=\"#DejaVuSans-33\"/>\r\n      </g>\r\n     </g>\r\n    </g>\r\n    <g id=\"ytick_4\">\r\n     <g id=\"line2d_9\">\r\n      <g>\r\n       <use style=\"stroke:#000000;stroke-width:0.8;\" x=\"50.14375\" xlink:href=\"#m0a4e5b7791\" y=\"115.913346\"/>\r\n      </g>\r\n     </g>\r\n     <g id=\"text_10\">\r\n      <!-- 0.04 -->\r\n      <g transform=\"translate(20.878125 119.712565)scale(0.1 -0.1)\">\r\n       <defs>\r\n        <path d=\"M 2419 4116 \r\nL 825 1625 \r\nL 2419 1625 \r\nL 2419 4116 \r\nz\r\nM 2253 4666 \r\nL 3047 4666 \r\nL 3047 1625 \r\nL 3713 1625 \r\nL 3713 1100 \r\nL 3047 1100 \r\nL 3047 0 \r\nL 2419 0 \r\nL 2419 1100 \r\nL 313 1100 \r\nL 313 1709 \r\nL 2253 4666 \r\nz\r\n\" id=\"DejaVuSans-34\" transform=\"scale(0.015625)\"/>\r\n       </defs>\r\n       <use xlink:href=\"#DejaVuSans-30\"/>\r\n       <use x=\"63.623047\" xlink:href=\"#DejaVuSans-2e\"/>\r\n       <use x=\"95.410156\" xlink:href=\"#DejaVuSans-30\"/>\r\n       <use x=\"159.033203\" xlink:href=\"#DejaVuSans-34\"/>\r\n      </g>\r\n     </g>\r\n    </g>\r\n    <g id=\"ytick_5\">\r\n     <g id=\"line2d_10\">\r\n      <g>\r\n       <use style=\"stroke:#000000;stroke-width:0.8;\" x=\"50.14375\" xlink:href=\"#m0a4e5b7791\" y=\"81.974099\"/>\r\n      </g>\r\n     </g>\r\n     <g id=\"text_11\">\r\n      <!-- 0.05 -->\r\n      <g transform=\"translate(20.878125 85.773317)scale(0.1 -0.1)\">\r\n       <use xlink:href=\"#DejaVuSans-30\"/>\r\n       <use x=\"63.623047\" xlink:href=\"#DejaVuSans-2e\"/>\r\n       <use x=\"95.410156\" xlink:href=\"#DejaVuSans-30\"/>\r\n       <use x=\"159.033203\" xlink:href=\"#DejaVuSans-35\"/>\r\n      </g>\r\n     </g>\r\n    </g>\r\n    <g id=\"ytick_6\">\r\n     <g id=\"line2d_11\">\r\n      <g>\r\n       <use style=\"stroke:#000000;stroke-width:0.8;\" x=\"50.14375\" xlink:href=\"#m0a4e5b7791\" y=\"48.034851\"/>\r\n      </g>\r\n     </g>\r\n     <g id=\"text_12\">\r\n      <!-- 0.06 -->\r\n      <g transform=\"translate(20.878125 51.83407)scale(0.1 -0.1)\">\r\n       <defs>\r\n        <path d=\"M 2113 2584 \r\nQ 1688 2584 1439 2293 \r\nQ 1191 2003 1191 1497 \r\nQ 1191 994 1439 701 \r\nQ 1688 409 2113 409 \r\nQ 2538 409 2786 701 \r\nQ 3034 994 3034 1497 \r\nQ 3034 2003 2786 2293 \r\nQ 2538 2584 2113 2584 \r\nz\r\nM 3366 4563 \r\nL 3366 3988 \r\nQ 3128 4100 2886 4159 \r\nQ 2644 4219 2406 4219 \r\nQ 1781 4219 1451 3797 \r\nQ 1122 3375 1075 2522 \r\nQ 1259 2794 1537 2939 \r\nQ 1816 3084 2150 3084 \r\nQ 2853 3084 3261 2657 \r\nQ 3669 2231 3669 1497 \r\nQ 3669 778 3244 343 \r\nQ 2819 -91 2113 -91 \r\nQ 1303 -91 875 529 \r\nQ 447 1150 447 2328 \r\nQ 447 3434 972 4092 \r\nQ 1497 4750 2381 4750 \r\nQ 2619 4750 2861 4703 \r\nQ 3103 4656 3366 4563 \r\nz\r\n\" id=\"DejaVuSans-36\" transform=\"scale(0.015625)\"/>\r\n       </defs>\r\n       <use xlink:href=\"#DejaVuSans-30\"/>\r\n       <use x=\"63.623047\" xlink:href=\"#DejaVuSans-2e\"/>\r\n       <use x=\"95.410156\" xlink:href=\"#DejaVuSans-30\"/>\r\n       <use x=\"159.033203\" xlink:href=\"#DejaVuSans-36\"/>\r\n      </g>\r\n     </g>\r\n    </g>\r\n    <g id=\"text_13\">\r\n     <!-- Arrest Rate -->\r\n     <g transform=\"translate(14.798438 159.062344)rotate(-90)scale(0.1 -0.1)\">\r\n      <defs>\r\n       <path d=\"M 2188 4044 \r\nL 1331 1722 \r\nL 3047 1722 \r\nL 2188 4044 \r\nz\r\nM 1831 4666 \r\nL 2547 4666 \r\nL 4325 0 \r\nL 3669 0 \r\nL 3244 1197 \r\nL 1141 1197 \r\nL 716 0 \r\nL 50 0 \r\nL 1831 4666 \r\nz\r\n\" id=\"DejaVuSans-41\" transform=\"scale(0.015625)\"/>\r\n       <path d=\"M 3597 1894 \r\nL 3597 1613 \r\nL 953 1613 \r\nQ 991 1019 1311 708 \r\nQ 1631 397 2203 397 \r\nQ 2534 397 2845 478 \r\nQ 3156 559 3463 722 \r\nL 3463 178 \r\nQ 3153 47 2828 -22 \r\nQ 2503 -91 2169 -91 \r\nQ 1331 -91 842 396 \r\nQ 353 884 353 1716 \r\nQ 353 2575 817 3079 \r\nQ 1281 3584 2069 3584 \r\nQ 2775 3584 3186 3129 \r\nQ 3597 2675 3597 1894 \r\nz\r\nM 3022 2063 \r\nQ 3016 2534 2758 2815 \r\nQ 2500 3097 2075 3097 \r\nQ 1594 3097 1305 2825 \r\nQ 1016 2553 972 2059 \r\nL 3022 2063 \r\nz\r\n\" id=\"DejaVuSans-65\" transform=\"scale(0.015625)\"/>\r\n       <path d=\"M 2834 3397 \r\nL 2834 2853 \r\nQ 2591 2978 2328 3040 \r\nQ 2066 3103 1784 3103 \r\nQ 1356 3103 1142 2972 \r\nQ 928 2841 928 2578 \r\nQ 928 2378 1081 2264 \r\nQ 1234 2150 1697 2047 \r\nL 1894 2003 \r\nQ 2506 1872 2764 1633 \r\nQ 3022 1394 3022 966 \r\nQ 3022 478 2636 193 \r\nQ 2250 -91 1575 -91 \r\nQ 1294 -91 989 -36 \r\nQ 684 19 347 128 \r\nL 347 722 \r\nQ 666 556 975 473 \r\nQ 1284 391 1588 391 \r\nQ 1994 391 2212 530 \r\nQ 2431 669 2431 922 \r\nQ 2431 1156 2273 1281 \r\nQ 2116 1406 1581 1522 \r\nL 1381 1569 \r\nQ 847 1681 609 1914 \r\nQ 372 2147 372 2553 \r\nQ 372 3047 722 3315 \r\nQ 1072 3584 1716 3584 \r\nQ 2034 3584 2315 3537 \r\nQ 2597 3491 2834 3397 \r\nz\r\n\" id=\"DejaVuSans-73\" transform=\"scale(0.015625)\"/>\r\n       <path d=\"M 1172 4494 \r\nL 1172 3500 \r\nL 2356 3500 \r\nL 2356 3053 \r\nL 1172 3053 \r\nL 1172 1153 \r\nQ 1172 725 1289 603 \r\nQ 1406 481 1766 481 \r\nL 2356 481 \r\nL 2356 0 \r\nL 1766 0 \r\nQ 1100 0 847 248 \r\nQ 594 497 594 1153 \r\nL 594 3053 \r\nL 172 3053 \r\nL 172 3500 \r\nL 594 3500 \r\nL 594 4494 \r\nL 1172 4494 \r\nz\r\n\" id=\"DejaVuSans-74\" transform=\"scale(0.015625)\"/>\r\n       <path id=\"DejaVuSans-20\" transform=\"scale(0.015625)\"/>\r\n       <path d=\"M 2841 2188 \r\nQ 3044 2119 3236 1894 \r\nQ 3428 1669 3622 1275 \r\nL 4263 0 \r\nL 3584 0 \r\nL 2988 1197 \r\nQ 2756 1666 2539 1819 \r\nQ 2322 1972 1947 1972 \r\nL 1259 1972 \r\nL 1259 0 \r\nL 628 0 \r\nL 628 4666 \r\nL 2053 4666 \r\nQ 2853 4666 3247 4331 \r\nQ 3641 3997 3641 3322 \r\nQ 3641 2881 3436 2590 \r\nQ 3231 2300 2841 2188 \r\nz\r\nM 1259 4147 \r\nL 1259 2491 \r\nL 2053 2491 \r\nQ 2509 2491 2742 2702 \r\nQ 2975 2913 2975 3322 \r\nQ 2975 3731 2742 3939 \r\nQ 2509 4147 2053 4147 \r\nL 1259 4147 \r\nz\r\n\" id=\"DejaVuSans-52\" transform=\"scale(0.015625)\"/>\r\n       <path d=\"M 2194 1759 \r\nQ 1497 1759 1228 1600 \r\nQ 959 1441 959 1056 \r\nQ 959 750 1161 570 \r\nQ 1363 391 1709 391 \r\nQ 2188 391 2477 730 \r\nQ 2766 1069 2766 1631 \r\nL 2766 1759 \r\nL 2194 1759 \r\nz\r\nM 3341 1997 \r\nL 3341 0 \r\nL 2766 0 \r\nL 2766 531 \r\nQ 2569 213 2275 61 \r\nQ 1981 -91 1556 -91 \r\nQ 1019 -91 701 211 \r\nQ 384 513 384 1019 \r\nQ 384 1609 779 1909 \r\nQ 1175 2209 1959 2209 \r\nL 2766 2209 \r\nL 2766 2266 \r\nQ 2766 2663 2505 2880 \r\nQ 2244 3097 1772 3097 \r\nQ 1472 3097 1187 3025 \r\nQ 903 2953 641 2809 \r\nL 641 3341 \r\nQ 956 3463 1253 3523 \r\nQ 1550 3584 1831 3584 \r\nQ 2591 3584 2966 3190 \r\nQ 3341 2797 3341 1997 \r\nz\r\n\" id=\"DejaVuSans-61\" transform=\"scale(0.015625)\"/>\r\n      </defs>\r\n      <use xlink:href=\"#DejaVuSans-41\"/>\r\n      <use x=\"68.408203\" xlink:href=\"#DejaVuSans-72\"/>\r\n      <use x=\"107.771484\" xlink:href=\"#DejaVuSans-72\"/>\r\n      <use x=\"146.634766\" xlink:href=\"#DejaVuSans-65\"/>\r\n      <use x=\"208.158203\" xlink:href=\"#DejaVuSans-73\"/>\r\n      <use x=\"260.257812\" xlink:href=\"#DejaVuSans-74\"/>\r\n      <use x=\"299.466797\" xlink:href=\"#DejaVuSans-20\"/>\r\n      <use x=\"331.253906\" xlink:href=\"#DejaVuSans-52\"/>\r\n      <use x=\"398.486328\" xlink:href=\"#DejaVuSans-61\"/>\r\n      <use x=\"459.765625\" xlink:href=\"#DejaVuSans-74\"/>\r\n      <use x=\"498.974609\" xlink:href=\"#DejaVuSans-65\"/>\r\n     </g>\r\n    </g>\r\n   </g>\r\n   <g id=\"line2d_12\">\r\n    <path clip-path=\"url(#p96ad392131)\" d=\"M 65.361932 154.747211 \r\nL 78.595133 116.765377 \r\nL 91.828335 32.201761 \r\nL 105.061537 64.758538 \r\nL 118.294738 115.23115 \r\nL 131.52794 207.247237 \r\nL 144.761141 195.20948 \r\nL 157.994343 227.165464 \r\nL 171.227544 202.003144 \r\nL 184.460746 210.718001 \r\nL 197.693948 206.665093 \r\nL 210.927149 195.360875 \r\nL 224.160351 229.874489 \r\nL 237.393552 190.373216 \r\nL 250.626754 184.959284 \r\nL 263.859956 192.21472 \r\nL 277.093157 180.12892 \r\nL 290.326359 158.328071 \r\nL 303.55956 212.184231 \r\nL 316.792762 208.024184 \r\nL 330.025963 198.248992 \r\nL 343.259165 218.520373 \r\nL 356.492367 203.868579 \r\nL 369.725568 180.789844 \r\n\" style=\"fill:none;stroke:#1f77b4;stroke-linecap:square;stroke-width:1.5;\"/>\r\n   </g>\r\n   <g id=\"patch_3\">\r\n    <path d=\"M 50.14375 239.758125 \r\nL 50.14375 22.318125 \r\n\" style=\"fill:none;stroke:#000000;stroke-linecap:square;stroke-linejoin:miter;stroke-width:0.8;\"/>\r\n   </g>\r\n   <g id=\"patch_4\">\r\n    <path d=\"M 384.94375 239.758125 \r\nL 384.94375 22.318125 \r\n\" style=\"fill:none;stroke:#000000;stroke-linecap:square;stroke-linejoin:miter;stroke-width:0.8;\"/>\r\n   </g>\r\n   <g id=\"patch_5\">\r\n    <path d=\"M 50.14375 239.758125 \r\nL 384.94375 239.758125 \r\n\" style=\"fill:none;stroke:#000000;stroke-linecap:square;stroke-linejoin:miter;stroke-width:0.8;\"/>\r\n   </g>\r\n   <g id=\"patch_6\">\r\n    <path d=\"M 50.14375 22.318125 \r\nL 384.94375 22.318125 \r\n\" style=\"fill:none;stroke:#000000;stroke-linecap:square;stroke-linejoin:miter;stroke-width:0.8;\"/>\r\n   </g>\r\n   <g id=\"text_14\">\r\n    <!-- Arrest Rate by Time of Day -->\r\n    <g transform=\"translate(136.615 16.318125)scale(0.12 -0.12)\">\r\n     <defs>\r\n      <path d=\"M 3116 1747 \r\nQ 3116 2381 2855 2742 \r\nQ 2594 3103 2138 3103 \r\nQ 1681 3103 1420 2742 \r\nQ 1159 2381 1159 1747 \r\nQ 1159 1113 1420 752 \r\nQ 1681 391 2138 391 \r\nQ 2594 391 2855 752 \r\nQ 3116 1113 3116 1747 \r\nz\r\nM 1159 2969 \r\nQ 1341 3281 1617 3432 \r\nQ 1894 3584 2278 3584 \r\nQ 2916 3584 3314 3078 \r\nQ 3713 2572 3713 1747 \r\nQ 3713 922 3314 415 \r\nQ 2916 -91 2278 -91 \r\nQ 1894 -91 1617 61 \r\nQ 1341 213 1159 525 \r\nL 1159 0 \r\nL 581 0 \r\nL 581 4863 \r\nL 1159 4863 \r\nL 1159 2969 \r\nz\r\n\" id=\"DejaVuSans-62\" transform=\"scale(0.015625)\"/>\r\n      <path d=\"M 2059 -325 \r\nQ 1816 -950 1584 -1140 \r\nQ 1353 -1331 966 -1331 \r\nL 506 -1331 \r\nL 506 -850 \r\nL 844 -850 \r\nQ 1081 -850 1212 -737 \r\nQ 1344 -625 1503 -206 \r\nL 1606 56 \r\nL 191 3500 \r\nL 800 3500 \r\nL 1894 763 \r\nL 2988 3500 \r\nL 3597 3500 \r\nL 2059 -325 \r\nz\r\n\" id=\"DejaVuSans-79\" transform=\"scale(0.015625)\"/>\r\n      <path d=\"M -19 4666 \r\nL 3928 4666 \r\nL 3928 4134 \r\nL 2272 4134 \r\nL 2272 0 \r\nL 1638 0 \r\nL 1638 4134 \r\nL -19 4134 \r\nL -19 4666 \r\nz\r\n\" id=\"DejaVuSans-54\" transform=\"scale(0.015625)\"/>\r\n      <path d=\"M 603 3500 \r\nL 1178 3500 \r\nL 1178 0 \r\nL 603 0 \r\nL 603 3500 \r\nz\r\nM 603 4863 \r\nL 1178 4863 \r\nL 1178 4134 \r\nL 603 4134 \r\nL 603 4863 \r\nz\r\n\" id=\"DejaVuSans-69\" transform=\"scale(0.015625)\"/>\r\n      <path d=\"M 3328 2828 \r\nQ 3544 3216 3844 3400 \r\nQ 4144 3584 4550 3584 \r\nQ 5097 3584 5394 3201 \r\nQ 5691 2819 5691 2113 \r\nL 5691 0 \r\nL 5113 0 \r\nL 5113 2094 \r\nQ 5113 2597 4934 2840 \r\nQ 4756 3084 4391 3084 \r\nQ 3944 3084 3684 2787 \r\nQ 3425 2491 3425 1978 \r\nL 3425 0 \r\nL 2847 0 \r\nL 2847 2094 \r\nQ 2847 2600 2669 2842 \r\nQ 2491 3084 2119 3084 \r\nQ 1678 3084 1418 2786 \r\nQ 1159 2488 1159 1978 \r\nL 1159 0 \r\nL 581 0 \r\nL 581 3500 \r\nL 1159 3500 \r\nL 1159 2956 \r\nQ 1356 3278 1631 3431 \r\nQ 1906 3584 2284 3584 \r\nQ 2666 3584 2933 3390 \r\nQ 3200 3197 3328 2828 \r\nz\r\n\" id=\"DejaVuSans-6d\" transform=\"scale(0.015625)\"/>\r\n      <path d=\"M 2375 4863 \r\nL 2375 4384 \r\nL 1825 4384 \r\nQ 1516 4384 1395 4259 \r\nQ 1275 4134 1275 3809 \r\nL 1275 3500 \r\nL 2222 3500 \r\nL 2222 3053 \r\nL 1275 3053 \r\nL 1275 0 \r\nL 697 0 \r\nL 697 3053 \r\nL 147 3053 \r\nL 147 3500 \r\nL 697 3500 \r\nL 697 3744 \r\nQ 697 4328 969 4595 \r\nQ 1241 4863 1831 4863 \r\nL 2375 4863 \r\nz\r\n\" id=\"DejaVuSans-66\" transform=\"scale(0.015625)\"/>\r\n      <path d=\"M 1259 4147 \r\nL 1259 519 \r\nL 2022 519 \r\nQ 2988 519 3436 956 \r\nQ 3884 1394 3884 2338 \r\nQ 3884 3275 3436 3711 \r\nQ 2988 4147 2022 4147 \r\nL 1259 4147 \r\nz\r\nM 628 4666 \r\nL 1925 4666 \r\nQ 3281 4666 3915 4102 \r\nQ 4550 3538 4550 2338 \r\nQ 4550 1131 3912 565 \r\nQ 3275 0 1925 0 \r\nL 628 0 \r\nL 628 4666 \r\nz\r\n\" id=\"DejaVuSans-44\" transform=\"scale(0.015625)\"/>\r\n     </defs>\r\n     <use xlink:href=\"#DejaVuSans-41\"/>\r\n     <use x=\"68.408203\" xlink:href=\"#DejaVuSans-72\"/>\r\n     <use x=\"107.771484\" xlink:href=\"#DejaVuSans-72\"/>\r\n     <use x=\"146.634766\" xlink:href=\"#DejaVuSans-65\"/>\r\n     <use x=\"208.158203\" xlink:href=\"#DejaVuSans-73\"/>\r\n     <use x=\"260.257812\" xlink:href=\"#DejaVuSans-74\"/>\r\n     <use x=\"299.466797\" xlink:href=\"#DejaVuSans-20\"/>\r\n     <use x=\"331.253906\" xlink:href=\"#DejaVuSans-52\"/>\r\n     <use x=\"398.486328\" xlink:href=\"#DejaVuSans-61\"/>\r\n     <use x=\"459.765625\" xlink:href=\"#DejaVuSans-74\"/>\r\n     <use x=\"498.974609\" xlink:href=\"#DejaVuSans-65\"/>\r\n     <use x=\"560.498047\" xlink:href=\"#DejaVuSans-20\"/>\r\n     <use x=\"592.285156\" xlink:href=\"#DejaVuSans-62\"/>\r\n     <use x=\"655.761719\" xlink:href=\"#DejaVuSans-79\"/>\r\n     <use x=\"714.941406\" xlink:href=\"#DejaVuSans-20\"/>\r\n     <use x=\"746.728516\" xlink:href=\"#DejaVuSans-54\"/>\r\n     <use x=\"804.6875\" xlink:href=\"#DejaVuSans-69\"/>\r\n     <use x=\"832.470703\" xlink:href=\"#DejaVuSans-6d\"/>\r\n     <use x=\"929.882812\" xlink:href=\"#DejaVuSans-65\"/>\r\n     <use x=\"991.40625\" xlink:href=\"#DejaVuSans-20\"/>\r\n     <use x=\"1023.193359\" xlink:href=\"#DejaVuSans-6f\"/>\r\n     <use x=\"1084.375\" xlink:href=\"#DejaVuSans-66\"/>\r\n     <use x=\"1119.580078\" xlink:href=\"#DejaVuSans-20\"/>\r\n     <use x=\"1151.367188\" xlink:href=\"#DejaVuSans-44\"/>\r\n     <use x=\"1228.369141\" xlink:href=\"#DejaVuSans-61\"/>\r\n     <use x=\"1289.648438\" xlink:href=\"#DejaVuSans-79\"/>\r\n    </g>\r\n   </g>\r\n  </g>\r\n </g>\r\n <defs>\r\n  <clipPath id=\"p96ad392131\">\r\n   <rect height=\"217.44\" width=\"334.8\" x=\"50.14375\" y=\"22.318125\"/>\r\n  </clipPath>\r\n </defs>\r\n</svg>\r\n",
      "image/png": "[encoded data removed]"
     },
     "metadata": {
      "needs_background": "light"
     }
    }
   ],
   "source": [
    "hourly_arrest_rate.plot()\n",
    "plt.xlabel('Hour')\n",
    "plt.ylabel('Arrest Rate')\n",
    "plt.title('Arrest Rate by Time of Day')\n",
    "plt.show()"
   ]
  },
  {
   "cell_type": "code",
   "execution_count": 102,
   "metadata": {
    "tags": [
     "outputPrepend"
    ]
   },
   "outputs": [
    {
     "output_type": "stream",
     "name": "stdout",
     "text": [
      "INS - Operating Without Liability Insurance'\n 'OSC - Operating After Suspension/Revocation/Refusal- Second Offense|INS - Operating Without Liability Insurance|NR - Persons Required To Register|VNI - Vehicle Not Inspected Within 15 Days Of Vt. Registration'\n 'NL - Operating Without A License|INS - Operating Without Liability Insurance|NR - Persons Required To Register'\n 'NR - Persons Required To Register|INS - Operating Without Liability Insurance|OSC - Operating After Suspension/Revocation/Refusal- First Offense'\n 'DR - Failing To Driving To The Right|IR - Illuminations Required'\n 'PNA - Misuse Of Number Plates|LBK - Limitations On Backing|NL - Operating Without A License'\n 'Operating without displaying validation sticker on registration plate|INS - Operating Without Liability Insurance'\n 'NR - Persons Required To Register|INS - Operating Without Liability Insurance|INS - Operating Without Liability Insurance'\n 'VNI - Vehicle Not Inspected Within 15 Days Of Vt. Registration|FYL - Vehicle Turning Left'\n 'VO - Regulations In Municipalities|DEF - Condition Of Vehicle|VNI - Vehicle Not Inspected Within 15 Days Of Vt. Registration'\n 'SCL - Sirens And Colored Lamps'\n 'NL - Operating Without A License|PED - Junior Operator Use of Portable Electronic Device'\n 'LES - Unreasonable And Imprudent Speed When Special Hazards Exist - Local|NR - Persons Required To Register'\n 'NL - Operating Without A License|ESA - Unreasonable And Imprudent Speed For Conditions And Hazards'\n 'DLT - Driving On Roadways Laned For Traffic|TCD - Obedience To Traffic Control Devices'\n 'LBR - 11-20 MPH over speed limit - Local'\n 'LBR - 21-30 MPH over speed limit - Local'\n 'OWS - Obstructing Windshields|DP - Failed To Display Front Registration Plate|SIG - Signals Required'\n 'OWS - Obstructing Windshields|VNI - Vehicle Not Inspected Within 15 Days Of Vt. Registration'\n 'LAS - Unreasonable And Imprudent Speed For Conditions And Hazards -Local|FTC - Following Too Closely'\n 'NR - Persons Required To Register|CEL - Using Portable Electronic Device -  1st violation'\n 'OWP - Operating Unregisterable Motor Vehicle Without Permit'\n 'MLT - Operating Motorcycles And Mopeds On Roadways Laned For Traffic'\n 'NL - Operating Without A License|FCC - Failure To Carry Registration Certificate|INS - Operating Without Liability Insurance'\n 'OSC - Operating After Suspension/Revocation/Refusal- First Offense|CRS - Failure to use child restraint system- First offense|VO - Regulations In Municipalities'\n 'VNI - Vehicle Not Inspected Within 15 Days Of Vt. Registration|TCS - Traffic Control Signals|FYL - Vehicle Turning Left|INS - Operating Without Liability Insurance'\n 'DIS - Inspection Sticker Not Assigned To Vehicle|PNA - Misuse Of Number Plates|INS - Operating Without Liability Insurance'\n 'IR - Illuminations Required|SL2 - 11-20 MPH Over Speed Limit|DLT - Driving On Roadways Laned For Traffic'\n 'RBI - Riding On Bicycle'\n 'TXD - Texting Prohibited -V1|VNI - Vehicle Not Inspected Within 15 Days Of Vt. Registration|VNI - Vehicle Not Inspected Within 15 Days Of Vt. Registration|NL - Operating Without A License'\n 'FS - Flashing Signals|DLT - Driving On Roadways Laned For Traffic'\n 'OSC - Operating After Suspension/Revocation/Refusal- Second Offense|OSC - Operating After Suspension/Revocation/Refusal- First Offense'\n 'FS - Flashing Signals|PAV - Passenger Age Violation'\n 'OSC - Operating After Suspension/Revocation/Refusal- First Offense|CRS - Failure to use child restraint system- First offense'\n 'VNI - Vehicle Not Inspected Within 15 Days Of Vt. Registration|SL2 - 11-20 MPH Over Speed Limit'\n 'OSC - Operating After Suspension/Revocation/Refusal- First Offense|DP - Failed To Display Front Registration Plate|SIG - Signals Required'\n 'FS - Flashing Signals|SL1 - 1-10 MPH Over Speed Limit|DEF - Condition Of Vehicle'\n 'VNI - Vehicle Not Inspected Within 15 Days Of Vt. Registration|IR - Illuminations Required'\n 'OSC - Operating After Suspension/Revocation/Refusal- First Offense|SL3 - 21-30 MPH Over Speed Limit'\n 'TMD - Trespass By Motor Vehicle With Property Damage|BTW - Position Of Operator (Behind The Wheel)'\n 'S02 - 11-20 MPH Over Speed Limit|INS - Operating Without Liability Insurance'\n 'NL - Operating Without A License|FCC - Failure To Carry Registration Certificate'\n 'SL1 - 1-10 MPH Over Speed Limit|OSC - Operating After Suspension/Revocation/Refusal- First Offense'\n 'INS - Operating Without Liability Insurance|FS - Flashing Signals'\n 'FYL - Vehicle Turning Left|PKR - Stopping; Standing; Or Parking In Restricted Areas|OWS - Obstructing Windshields'\n 'FSB - Failure To Use Seat Belts - V1|FYL - Vehicle Turning Left|INS - Operating Without Liability Insurance'\n 'FYY - Stop Sign|NL - Operating Without A License|VNI - Vehicle Not Inspected Within 15 Days Of Vt. Registration'\n 'DP - Failed To Display Front Registration Plate|SL2 - 11-20 MPH Over Speed Limit'\n 'OCD - Driver Possessed Open Container|SL1 - 1-10 MPH Over Speed Limit'\n 'OSC - Operating After Suspension/Revocation/Refusal- First Offense|NR - Persons Required To Register|ORR - One-Way Roadways And Rotaries|PNA - Misuse Of Number Plates|INS - Operating Without Liability Insurance'\n 'DR - Failing To Driving To The Right|FOO - Failure To Obey An Officer'\n 'FS - Flashing Signals|SIG - Signals Required'\n 'OSC - Operating After Suspension/Revocation/Refusal- First Offense|NR - Persons Required To Register|TCS - Traffic Control Signals'\n 'LES - Unreasonable And Imprudent Speed When Special Hazards Exist - Local|INS - Operating Without Liability Insurance'\n 'INS - Operating Without Liability Insurance|FYE - Operation On Approach Of Emergency Vehicles|OSC - Operating After Suspension/Revocation/Refusal- Second Offense|VNI - Vehicle Not Inspected Within 15 Days Of Vt. Registration'\n 'LP - Loaning Or Permitting The Use Of Number Plates'\n 'INS - Operating Without Liability Insurance|LBK - Limitations On Backing|OCD - Driver Possessed Open Container'\n 'PNA - Misuse Of Number Plates|VO - Regulations In Municipalities'\n 'INS - Operating Without Liability Insurance|DIS - Inspection Sticker Not Assigned To Vehicle'\n 'TXD - Texting While Operating Moving Motor Vehicle - 1st Offense|DEF - Condition Of Vehicle'\n 'NH - Motorcycles- Headgear|VNI - Vehicle Not Inspected Within 15 Days Of Vt. Registration|INS - Operating Without Liability Insurance|CM2 - Display Fictitious Or Altered License/Registration|INS - Operating Without Liability Insurance'\n 'INS - Operating Without Liability Insurance|CM4 - Display As Own License Not Issued|VNI - Vehicle Not Inspected Within 15 Days Of Vt. Registration'\n 'FS - Flashing Signals|VO - Regulations In Municipalities'\n 'CEL - Using Portable Electronic Device -  1st violation|OSC - Operating After Suspension/Revocation/Refusal- First Offense'\n '21A - Person under 21- Alcohol concentration of 0.02 or more|LCS - Lane Control Signals'\n 'OSC - Operating After Suspension/Revocation/Refusal- First Offense|INS - Operating Without Liability Insurance|SPV - Starting Parked Vehicles'\n 'INS - Operating Without Liability Insurance|OSC - Operating After Suspension/Revocation/Refusal- First Offense|FYL - Vehicle Turning Left'\n 'INS - Operating Without Liability Insurance|OSC - Operating After Suspension/Revocation/Refusal- First Offense|PNA - Misuse Of Number Plates'\n 'NR - Persons Required To Register|DP - Failed To Display Front Registration Plate'\n 'DLT - Driving On Roadways Laned For Traffic|FYY - Stop Sign'\n 'DP - Failed To Display Front Registration Plate|NR - Persons Required To Register'\n 'SL4 - 31 Or More MPH Over Speed Limit|SIG - Signals Required|POL - Passing On The Left|MLT - Operating Motorcycles And Mopeds On Roadways Laned For Traffic'\n 'OWS - Obstructing Windshields|PL - Possession Of License Certificate'\n 'PGH - Putting Glass, Etc., On Highways Prohibited'\n 'INS - Operating Without Liability Insurance|SL4 - 31 Or More MPH Over Speed Limit'\n 'INS - Operating Without Liability Insurance|FCC - Failure To Carry Registration Certificate'\n 'OSC - Operating After Suspension/Revocation/Refusal- Second Offense|FTC - Following Too Closely|INS - Operating Without Liability Insurance'\n 'INS - Operating Without Liability Insurance|NR - Persons Required To Register|NL - Operating Without A License|FYY - Yield Sign'\n 'DP - Failed To Display Front Registration Plate|PL - Possession Of License Certificate'\n 'SL2 - 11-20 MPH Over Speed Limit|TXD - Texting While Operating Moving Motor Vehicle - 1st Offense'\n 'VO - Regulations In Municipalities|S02 - 11-20 MPH Over Speed Limit'\n 'INS - Operating Without Liability Insurance|NR - Persons Required To Register|NL - Operating Without A License|DEF - Condition Of Vehicle'\n 'VO - Regulations In Municipalities|ORR - One-Way Roadways And Rotaries'\n 'AEI - Vehicle Approaching Or Entering Intersection|VO - Regulations In Municipalities'\n 'OSC - Operating After Suspension/Revocation/Refusal- First Offense|CEL - Using Portable Electronic Device â€“ 1st violation'\n 'NL - Operating Without A License|NR - Persons Required To Register|PNA - Misuse Of Number Plates|INS - Operating Without Liability Insurance'\n 'VO - Regulations In Municipalities|SL4 - 31 Or More MPH Over Speed Limit'\n 'OIL - Operating Driving School/Providing Driver Instruction Without A License'\n 'ESA - Unreasonable And Imprudent Speed For Conditions And Hazards|DLT - Driving On Roadways Laned For Traffic'\n 'LAS - Unreasonable And Imprudent Speed For Conditions And Hazards - Local|BR - 11-20 MPH Over Speed Limit'\n 'Operating without displaying validation sticker on registration plate|VO - Regulations In Municipalities'\n 'CEL - Using Portable Electronic Device â€“ 1st violation|VO - Regulations In Municipalities'\n 'FTC - Following Too Closely|INS - Operating Without Liability Insurance'\n 'OSC - Operating After Suspension/Revocation/Refusal- 1st Offense'\n 'FOO - Failure To Obey An Officer|NL - Operating Without A License'\n 'SL2 - 11-20 MPH Over Speed Limit|INS - Operating Without Liability Insurance|NR - Persons Required To Register'\n 'DIS - Inspection Sticker Not Assigned To Vehicle|INS - Operating Without Liability Insurance|LBK - Limitations On Backing'\n 'NH - Motorcycles- Headgear|NL - Operating Without A License'\n 'NR - Persons Required To Register|SIG - Signals Required'\n 'INS - Operating Without Liability Insurance|OSC - Operating After Suspension/Revocation/Refusal- First Offense|NR - Persons Required To Register'\n 'VO - Regulations In Municipalities|TXD - Texting While Operating Moving Motor Vehicle - 1st Offense'\n 'DP - Failed To Display Front Registration Plate|VNI - Vehicle Not Inspected Within 15 Days Of Vt. Registration|NR - Persons Required To Register'\n 'PNA - Misuse Of Number Plates|NR - Persons Required To Register|TCS - Traffic Control Signals'\n 'DP2 - Failed To Display Front And Rear Registration Plates|INS - Operating Without Liability Insurance'\n 'IX4 - IX4 Inspection Expired Within 14 Days'\n 'DP - Failed To Display Front Registration Plate|NR - Persons Required To Register|21D - Person under 21- Subsequent refusal to submit to breath test|PL - Possession Of License Certificate'\n 'NL - Operating Without A License|SL1 - 1-10 MPH Over Speed Limit'\n 'OSC - Operating After Suspension/Revocation/Refusal- First Offense|OSC - Operating After Suspension/Revocation/Refusal- First Offense|VO - Regulations In Municipalities'\n 'OSC - Operating After Suspension/Revocation/Refusal- Second Offense|TCD - Obedience To Traffic Control Devices'\n 'PVU - Improperly Passing Vulnerable User'\n 'EPR - Vehicle Entering From Private Road|ORR - One-Way Roadways And Rotaries'\n 'SL1 - 1-10 MPH Over Speed Limit|PL - Possession Of License Certificate'\n 'VNI - Vehicle Not Inspected Within 15 Days Of Vt. Registration|CM1 - Counterfeit Plates, Stickers, Etcetera'\n 'OSC - Operating After Suspension/Revocation/Refusal- First Offense|FTC - Following Too Closely'\n 'VO - Regulations In Municipalities|21D - Person under 21- Subsequent refusal to submit to breath test'\n 'NAC - Notification Of Change Of Name Or Address|BTW - Position Of Operator (Behind The Wheel)|DR - Failing To Driving To The Right'\n 'DIS - Inspection Sticker Not Assigned To Vehicle|FTC - Following Too Closely'\n 'FYE - Operation On Approach Of Emergency Vehicles|SIG - Signals Required'\n 'OSC - Operating After Suspension/Revocation/Refusal- Second Offense|NR - Persons Required To Register|S00 - 1-10 MPH Over Speed Limit'\n 'OWS - Obstructing Windshields|DP - Failed To Display Front Registration Plate'\n 'INS - Operating Without Liability Insurance|TCS - Traffic Control Signals|NR - Persons Required To Register'\n 'OSC - Operating After Suspension/Revocation/Refusal- Second Offense|NR - Persons Required To Register|DEF - Condition Of Vehicle'\n 'CM1 - Counterfeit Plates, Stickers, Etcetera|OSC - Operating After Suspension/Revocation/Refusal- Second Offense|INS - Operating Without Liability Insurance'\n 'TCD - Obedience To Traffic Control Devices|SL1 - 1-10 MPH Over Speed Limit'\n 'CM3 - Loaning License'\n 'AWD - Consuming Alcoholic Beverage While Driving|INS - Operating Without Liability Insurance|FYL - Vehicle Turning Left'\n 'VNI - Vehicle Not Inspected Within 15 Days Of Vt. Registration|NR - Persons Required To Register|NL - Operating Without A License'\n 'FYY - Stop Sign|S00 - 1-10 MPH Over Speed Limit'\n 'NL - Operating Without A License|NR - Persons Required To Register|DLT - Driving On Roadways Laned For Traffic'\n '21C - Person under 21- Refusal to submit to breath test|SL2 - 11-20 MPH Over Speed Limit'\n 'DP - Failed To Display Front Registration Plate|DEF - Condition Of Vehicle'\n \"TXD - Texting While Operating Moving Motor Vehicle - 1st Offense|FYP - Pedestrian'S Right Of Way In Crosswalks\"\n 'NAC - Notification Of Change Of Name Or Address|DEF - Condition Of Vehicle'\n 'DR - Failing To Driving To The Right|SPV - Starting Parked Vehicles'\n 'NL - Operating Without A License|VO - Regulations In Municipalities|NH - Motorcycles- Headgear'\n 'OSC - Operating After Suspension/Revocation/Refusal- First Offense|SPV - Starting Parked Vehicles|OCD - Driver Possessed Open Container'\n 'DP - Failed To Display Front Registration Plate|OSC - Operating After Suspension/Revocation/Refusal- First Offense|NR - Persons Required To Register'\n '21046 - Disorderly Conduct-1st Offense Waiver Penalty'\n 'NL - Operating Without A License|INS - Operating Without Liability Insurance|FOO - Failure To Obey An Officer|FCC - Failure To Carry Registration Certificate'\n 'SIG - Signals Required|ESD - Unreasonable And Imprudent Speed When Special Hazards Exist|SIG - Signals Required|VO - Regulations In Municipalities'\n 'VO - Regulations In Municipalities|FYE - Operation On Approach Of Emergency Vehicles'\n 'NR - Persons Required To Register|PNA - Misuse Of Number Plates|INS - Operating Without Liability Insurance|NL - Operating Without A License'\n 'VNI - Vehicle Not Inspected Within 15 Days Of Vt. Registration|TCD - Obedience To Traffic Control Devices|OSC - Operating After Suspension/Revocation/Refusal- First Offense'\n 'OSC - Operating After Suspension/Revocation/Refusal- First Offense|FYY - Stop Sign|INS - Operating Without Liability Insurance'\n 'LES - Unreasonable And Imprudent Speed When Special Hazards Exist - Local|OCD - Driver Possessed Open Container'\n 'PNA - Misuse Of Number Plates|SL1 - 1-10 MPH Over Speed Limit|VO - Regulations In Municipalities|NR - Persons Required To Register'\n 'OSC - Operating After Suspension/Revocation/Refusal- First Offense|HP - Parking In A Handicapped Parking Space'\n 'NL - Operating Without A License|NL - Operating Without A License|TL - Tail Lights'\n 'ORR - One-Way Roadways And Rotaries|NR - Persons Required To Register|VNI - Vehicle Not Inspected Within 15 Days Of Vt. Registration'\n 'FYE - Operation On Approach Of Emergency Vehicles|NL - Operating Without A License'\n 'SL2 - 11-20 MPH Over Speed Limit|LOP - Limitations On Passing'\n 'FCC - Failure To Carry Registration Certificate|VO - Regulations In Municipalities|NAC - Notification Of Change Of Name Or Address'\n 'OSC - Operating After Suspension/Revocation/Refusal- First Offense|FYL - Vehicle Turning Left|FPI - Failure To Provide Identity To Enforcement Officer'\n 'NR - Persons Required To Register|VO - Regulations In Municipalities|OSC - Operating After Suspension/Revocation/Refusal- First Offense'\n 'PNA - Misuse Of Number Plates|DEF - Condition Of Vehicle'\n 'SIG - Signals Required|PKR - Stopping; Standing; Or Parking In Restricted Areas'\n 'DP - Failed To Display Front Registration Plate|DP2 - Failed To Display Front And Rear Registration Plates'\n 'TCS - Traffic Control Signals|DLT - Driving On Roadways Laned For Traffic'\n 'INS - Operating Without Liability Insurance|DSL - Directional Signal Lamps'\n 'PKR - Stopping; Standing; Or Parking In Restricted Areas|DLT - Driving On Roadways Laned For Traffic'\n 'OSC - Operating After Suspension/Revocation/Refusal- First Offense|NR - Persons Required To Register|INS - Operating Without Liability Insurance|DEF - Condition Of Vehicle'\n 'NR - Persons Required To Register|OCD - Driver Possessed Open Container'\n 'DP - Failed To Display Front Registration Plate|INS - Operating Without Liability Insurance|Operating without displaying validation sticker on registration plate'\n 'NR - Persons Required To Register|CEL - Using Portable Electronic Device -  1st violation|NAC - Notification Of Change Of Name Or Address'\n 'ORR - One-Way Roadways And Rotaries|IR - Illuminations Required'\n 'CRS - Failure to use child restraint system- First offense|DEF - Condition Of Vehicle|DLT - Driving On Roadways Laned For Traffic'\n 'NR - Persons Required To Register|NL - Operating Without A License|FYL - Vehicle Turning Left|INS - Operating Without Liability Insurance'\n 'INS - Operating Without Liability Insurance|TI - Turning At Intersections'\n 'TXD - Texting While Operating Moving Motor Vehicle - 1st Offense|VNI - Vehicle Not Inspected Within 15 Days Of Vt. Registration'\n 'INS - Operating Without Liability Insurance|IR - Illuminations Required|INS - Operating Without Liability Insurance'\n 'OSC - Operating After Suspension/Revocation/Refusal- Second Offense|SL1 - 1-10 MPH Over Speed Limit|DLT - Driving On Roadways Laned For Traffic'\n 'FS - Flashing Signals|FYY - Stop Sign'\n 'OSC - Operating After Suspension/Revocation/Refusal- First Offense|BR - 11-20 MPH Over Speed Limit'\n 'Idling Motor Vehicle - 1st Violation'\n \"NLP - Operating Without Learner'S Permit|DDH - Driving On Divided Highways\"\n 'OSC - Operating After Suspension/Revocation/Refusal- First Offense|PNA - Misuse Of Number Plates|NR - Persons Required To Register|INS - Operating Without Liability Insurance'\n 'DP2 - Failed To Display Front And Rear Registration Plates|SIG - Signals Required'\n 'NL - Operating Without A License|POR - Passing On The Right'\n 'NL - Operating Without A License|CEL - Using Portable Electronic Device -  1st violation|TMD - Trespass By Motor Vehicle With Property Damage'\n 'PL - Possession Of License Certificate|FSO - Authority Of Enforcement Officer'\n 'CRS - Failure to use child restraint system- First offense|VNI - Vehicle Not Inspected Within 15 Days Of Vt. Registration'\n 'RMC - Riding On Motorcycles And Mopeds'\n 'OSC - Operating After Suspension/Revocation/Refusal- First Offense|TL - Tail Lights'\n 'OSC - Operating After Suspension/Revocation/Refusal- Second Offense|IR - Illuminations Required'\n 'SL3 - 21-30 MPH Over Speed Limit - Work Zone'\n 'NR - Persons Required To Register|INS - Operating Without Liability Insurance|DEF - Condition Of Vehicle|PNA - Misuse Of Number Plates|VO - Regulations In Municipalities'\n 'SL2 - 11-20 MPH Over Speed Limit|FYY - Stop Sign|POL - Passing On The Left'\n 'VO - Regulations In Municipalities|FYY - Stop Sign|NR - Persons Required To Register'\n 'FTC - Following Too Closely|CEL - Using Portable Electronic Device â€“ 1st violation'\n 'INS - Operating Without Liability Insurance|DEF - Condition Of Vehicle|DEF - Condition Of Vehicle'\n 'SL1 - 1-10 MPH Over Speed Limit|DP - Failed To Display Front Registration Plate']\n"
     ]
    }
   ],
   "source": [
    "print(vt.violation.unique())"
   ]
  },
  {
   "cell_type": "code",
   "execution_count": 118,
   "metadata": {},
   "outputs": [
    {
     "output_type": "stream",
     "name": "stdout",
     "text": [
      "arrest_made             False  True \nsubject_race                        \nasian/pacific islander   1228     21\nblack                    2415     56\nhispanic                  214      3\nother                     458     13\nwhite                   25426    460\n"
     ]
    }
   ],
   "source": [
    "print(pd.crosstab(vt.subject_race, vt.arrest_made))"
   ]
  },
  {
   "cell_type": "code",
   "execution_count": 119,
   "metadata": {},
   "outputs": [],
   "source": [
    "arrest_race=pd.crosstab(vt.subject_race, vt.arrest_made)"
   ]
  },
  {
   "cell_type": "code",
   "execution_count": 120,
   "metadata": {},
   "outputs": [
    {
     "output_type": "stream",
     "name": "stdout",
     "text": [
      "arrest_made             False  True \nsubject_race                        \nasian/pacific islander   1228     21\nblack                    2415     56\nhispanic                  214      3\n"
     ]
    }
   ],
   "source": [
    "print(arrest_race.loc['asian/pacific islander':'hispanic'])"
   ]
  },
  {
   "cell_type": "code",
   "execution_count": 121,
   "metadata": {},
   "outputs": [],
   "source": [
    "races=arrest_race.loc['asian/pacific islander':'hispanic']"
   ]
  },
  {
   "cell_type": "code",
   "execution_count": 122,
   "metadata": {},
   "outputs": [
    {
     "output_type": "execute_result",
     "data": {
      "text/plain": [
       "<AxesSubplot:xlabel='subject_race'>"
      ]
     },
     "metadata": {},
     "execution_count": 122
    },
    {
     "output_type": "display_data",
     "data": {
      "text/plain": "<Figure size 432x288 with 1 Axes>",
      "image/svg+xml": "<?xml version=\"1.0\" encoding=\"utf-8\" standalone=\"no\"?>\r\n<!DOCTYPE svg PUBLIC \"-//W3C//DTD SVG 1.1//EN\"\r\n  \"http://www.w3.org/Graphics/SVG/1.1/DTD/svg11.dtd\">\r\n<svg height=\"359.051789pt\" version=\"1.1\" viewBox=\"0 0 381.65 359.051789\" width=\"381.65pt\" xmlns=\"http://www.w3.org/2000/svg\" xmlns:xlink=\"http://www.w3.org/1999/xlink\">\r\n <metadata>\r\n  <rdf:RDF xmlns:cc=\"http://creativecommons.org/ns#\" xmlns:dc=\"http://purl.org/dc/elements/1.1/\" xmlns:rdf=\"http://www.w3.org/1999/02/22-rdf-syntax-ns#\">\r\n   <cc:Work>\r\n    <dc:type rdf:resource=\"http://purl.org/dc/dcmitype/StillImage\"/>\r\n    <dc:date>2021-06-24T16:50:45.808746</dc:date>\r\n    <dc:format>image/svg+xml</dc:format>\r\n    <dc:creator>\r\n     <cc:Agent>\r\n      <dc:title>Matplotlib v3.4.2, https://matplotlib.org/</dc:title>\r\n     </cc:Agent>\r\n    </dc:creator>\r\n   </cc:Work>\r\n  </rdf:RDF>\r\n </metadata>\r\n <defs>\r\n  <style type=\"text/css\">*{stroke-linecap:butt;stroke-linejoin:round;}</style>\r\n </defs>\r\n <g id=\"figure_1\">\r\n  <g id=\"patch_1\">\r\n   <path d=\"M -0 359.051789 \r\nL 381.65 359.051789 \r\nL 381.65 0 \r\nL -0 0 \r\nz\r\n\" style=\"fill:none;\"/>\r\n  </g>\r\n  <g id=\"axes_1\">\r\n   <g id=\"patch_2\">\r\n    <path d=\"M 39.65 225.373664 \r\nL 374.45 225.373664 \r\nL 374.45 7.933664 \r\nL 39.65 7.933664 \r\nz\r\n\" style=\"fill:#ffffff;\"/>\r\n   </g>\r\n   <g id=\"patch_3\">\r\n    <path clip-path=\"url(#pa4d334f3e1)\" d=\"M 67.55 225.373664 \r\nL 95.45 225.373664 \r\nL 95.45 120.072937 \r\nL 67.55 120.072937 \r\nz\r\n\" style=\"fill:#1f77b4;\"/>\r\n   </g>\r\n   <g id=\"patch_4\">\r\n    <path clip-path=\"url(#pa4d334f3e1)\" d=\"M 179.15 225.373664 \r\nL 207.05 225.373664 \r\nL 207.05 18.28795 \r\nL 179.15 18.28795 \r\nz\r\n\" style=\"fill:#1f77b4;\"/>\r\n   </g>\r\n   <g id=\"patch_5\">\r\n    <path clip-path=\"url(#pa4d334f3e1)\" d=\"M 290.75 225.373664 \r\nL 318.65 225.373664 \r\nL 318.65 207.023212 \r\nL 290.75 207.023212 \r\nz\r\n\" style=\"fill:#1f77b4;\"/>\r\n   </g>\r\n   <g id=\"patch_6\">\r\n    <path clip-path=\"url(#pa4d334f3e1)\" d=\"M 95.45 225.373664 \r\nL 123.35 225.373664 \r\nL 123.35 223.572919 \r\nL 95.45 223.572919 \r\nz\r\n\" style=\"fill:#ff7f0e;\"/>\r\n   </g>\r\n   <g id=\"patch_7\">\r\n    <path clip-path=\"url(#pa4d334f3e1)\" d=\"M 207.05 225.373664 \r\nL 234.95 225.373664 \r\nL 234.95 220.571677 \r\nL 207.05 220.571677 \r\nz\r\n\" style=\"fill:#ff7f0e;\"/>\r\n   </g>\r\n   <g id=\"patch_8\">\r\n    <path clip-path=\"url(#pa4d334f3e1)\" d=\"M 318.65 225.373664 \r\nL 346.55 225.373664 \r\nL 346.55 225.116415 \r\nL 318.65 225.116415 \r\nz\r\n\" style=\"fill:#ff7f0e;\"/>\r\n   </g>\r\n   <g id=\"matplotlib.axis_1\">\r\n    <g id=\"xtick_1\">\r\n     <g id=\"line2d_1\">\r\n      <defs>\r\n       <path d=\"M 0 0 \r\nL 0 3.5 \r\n\" id=\"m3e45b3ce16\" style=\"stroke:#000000;stroke-width:0.8;\"/>\r\n      </defs>\r\n      <g>\r\n       <use style=\"stroke:#000000;stroke-width:0.8;\" x=\"95.45\" xlink:href=\"#m3e45b3ce16\" y=\"225.373664\"/>\r\n      </g>\r\n     </g>\r\n     <g id=\"text_1\">\r\n      <!-- asian/pacific islander -->\r\n      <g transform=\"translate(98.209375 337.895539)rotate(-90)scale(0.1 -0.1)\">\r\n       <defs>\r\n        <path d=\"M 2194 1759 \r\nQ 1497 1759 1228 1600 \r\nQ 959 1441 959 1056 \r\nQ 959 750 1161 570 \r\nQ 1363 391 1709 391 \r\nQ 2188 391 2477 730 \r\nQ 2766 1069 2766 1631 \r\nL 2766 1759 \r\nL 2194 1759 \r\nz\r\nM 3341 1997 \r\nL 3341 0 \r\nL 2766 0 \r\nL 2766 531 \r\nQ 2569 213 2275 61 \r\nQ 1981 -91 1556 -91 \r\nQ 1019 -91 701 211 \r\nQ 384 513 384 1019 \r\nQ 384 1609 779 1909 \r\nQ 1175 2209 1959 2209 \r\nL 2766 2209 \r\nL 2766 2266 \r\nQ 2766 2663 2505 2880 \r\nQ 2244 3097 1772 3097 \r\nQ 1472 3097 1187 3025 \r\nQ 903 2953 641 2809 \r\nL 641 3341 \r\nQ 956 3463 1253 3523 \r\nQ 1550 3584 1831 3584 \r\nQ 2591 3584 2966 3190 \r\nQ 3341 2797 3341 1997 \r\nz\r\n\" id=\"DejaVuSans-61\" transform=\"scale(0.015625)\"/>\r\n        <path d=\"M 2834 3397 \r\nL 2834 2853 \r\nQ 2591 2978 2328 3040 \r\nQ 2066 3103 1784 3103 \r\nQ 1356 3103 1142 2972 \r\nQ 928 2841 928 2578 \r\nQ 928 2378 1081 2264 \r\nQ 1234 2150 1697 2047 \r\nL 1894 2003 \r\nQ 2506 1872 2764 1633 \r\nQ 3022 1394 3022 966 \r\nQ 3022 478 2636 193 \r\nQ 2250 -91 1575 -91 \r\nQ 1294 -91 989 -36 \r\nQ 684 19 347 128 \r\nL 347 722 \r\nQ 666 556 975 473 \r\nQ 1284 391 1588 391 \r\nQ 1994 391 2212 530 \r\nQ 2431 669 2431 922 \r\nQ 2431 1156 2273 1281 \r\nQ 2116 1406 1581 1522 \r\nL 1381 1569 \r\nQ 847 1681 609 1914 \r\nQ 372 2147 372 2553 \r\nQ 372 3047 722 3315 \r\nQ 1072 3584 1716 3584 \r\nQ 2034 3584 2315 3537 \r\nQ 2597 3491 2834 3397 \r\nz\r\n\" id=\"DejaVuSans-73\" transform=\"scale(0.015625)\"/>\r\n        <path d=\"M 603 3500 \r\nL 1178 3500 \r\nL 1178 0 \r\nL 603 0 \r\nL 603 3500 \r\nz\r\nM 603 4863 \r\nL 1178 4863 \r\nL 1178 4134 \r\nL 603 4134 \r\nL 603 4863 \r\nz\r\n\" id=\"DejaVuSans-69\" transform=\"scale(0.015625)\"/>\r\n        <path d=\"M 3513 2113 \r\nL 3513 0 \r\nL 2938 0 \r\nL 2938 2094 \r\nQ 2938 2591 2744 2837 \r\nQ 2550 3084 2163 3084 \r\nQ 1697 3084 1428 2787 \r\nQ 1159 2491 1159 1978 \r\nL 1159 0 \r\nL 581 0 \r\nL 581 3500 \r\nL 1159 3500 \r\nL 1159 2956 \r\nQ 1366 3272 1645 3428 \r\nQ 1925 3584 2291 3584 \r\nQ 2894 3584 3203 3211 \r\nQ 3513 2838 3513 2113 \r\nz\r\n\" id=\"DejaVuSans-6e\" transform=\"scale(0.015625)\"/>\r\n        <path d=\"M 1625 4666 \r\nL 2156 4666 \r\nL 531 -594 \r\nL 0 -594 \r\nL 1625 4666 \r\nz\r\n\" id=\"DejaVuSans-2f\" transform=\"scale(0.015625)\"/>\r\n        <path d=\"M 1159 525 \r\nL 1159 -1331 \r\nL 581 -1331 \r\nL 581 3500 \r\nL 1159 3500 \r\nL 1159 2969 \r\nQ 1341 3281 1617 3432 \r\nQ 1894 3584 2278 3584 \r\nQ 2916 3584 3314 3078 \r\nQ 3713 2572 3713 1747 \r\nQ 3713 922 3314 415 \r\nQ 2916 -91 2278 -91 \r\nQ 1894 -91 1617 61 \r\nQ 1341 213 1159 525 \r\nz\r\nM 3116 1747 \r\nQ 3116 2381 2855 2742 \r\nQ 2594 3103 2138 3103 \r\nQ 1681 3103 1420 2742 \r\nQ 1159 2381 1159 1747 \r\nQ 1159 1113 1420 752 \r\nQ 1681 391 2138 391 \r\nQ 2594 391 2855 752 \r\nQ 3116 1113 3116 1747 \r\nz\r\n\" id=\"DejaVuSans-70\" transform=\"scale(0.015625)\"/>\r\n        <path d=\"M 3122 3366 \r\nL 3122 2828 \r\nQ 2878 2963 2633 3030 \r\nQ 2388 3097 2138 3097 \r\nQ 1578 3097 1268 2742 \r\nQ 959 2388 959 1747 \r\nQ 959 1106 1268 751 \r\nQ 1578 397 2138 397 \r\nQ 2388 397 2633 464 \r\nQ 2878 531 3122 666 \r\nL 3122 134 \r\nQ 2881 22 2623 -34 \r\nQ 2366 -91 2075 -91 \r\nQ 1284 -91 818 406 \r\nQ 353 903 353 1747 \r\nQ 353 2603 823 3093 \r\nQ 1294 3584 2113 3584 \r\nQ 2378 3584 2631 3529 \r\nQ 2884 3475 3122 3366 \r\nz\r\n\" id=\"DejaVuSans-63\" transform=\"scale(0.015625)\"/>\r\n        <path d=\"M 2375 4863 \r\nL 2375 4384 \r\nL 1825 4384 \r\nQ 1516 4384 1395 4259 \r\nQ 1275 4134 1275 3809 \r\nL 1275 3500 \r\nL 2222 3500 \r\nL 2222 3053 \r\nL 1275 3053 \r\nL 1275 0 \r\nL 697 0 \r\nL 697 3053 \r\nL 147 3053 \r\nL 147 3500 \r\nL 697 3500 \r\nL 697 3744 \r\nQ 697 4328 969 4595 \r\nQ 1241 4863 1831 4863 \r\nL 2375 4863 \r\nz\r\n\" id=\"DejaVuSans-66\" transform=\"scale(0.015625)\"/>\r\n        <path id=\"DejaVuSans-20\" transform=\"scale(0.015625)\"/>\r\n        <path d=\"M 603 4863 \r\nL 1178 4863 \r\nL 1178 0 \r\nL 603 0 \r\nL 603 4863 \r\nz\r\n\" id=\"DejaVuSans-6c\" transform=\"scale(0.015625)\"/>\r\n        <path d=\"M 2906 2969 \r\nL 2906 4863 \r\nL 3481 4863 \r\nL 3481 0 \r\nL 2906 0 \r\nL 2906 525 \r\nQ 2725 213 2448 61 \r\nQ 2172 -91 1784 -91 \r\nQ 1150 -91 751 415 \r\nQ 353 922 353 1747 \r\nQ 353 2572 751 3078 \r\nQ 1150 3584 1784 3584 \r\nQ 2172 3584 2448 3432 \r\nQ 2725 3281 2906 2969 \r\nz\r\nM 947 1747 \r\nQ 947 1113 1208 752 \r\nQ 1469 391 1925 391 \r\nQ 2381 391 2643 752 \r\nQ 2906 1113 2906 1747 \r\nQ 2906 2381 2643 2742 \r\nQ 2381 3103 1925 3103 \r\nQ 1469 3103 1208 2742 \r\nQ 947 2381 947 1747 \r\nz\r\n\" id=\"DejaVuSans-64\" transform=\"scale(0.015625)\"/>\r\n        <path d=\"M 3597 1894 \r\nL 3597 1613 \r\nL 953 1613 \r\nQ 991 1019 1311 708 \r\nQ 1631 397 2203 397 \r\nQ 2534 397 2845 478 \r\nQ 3156 559 3463 722 \r\nL 3463 178 \r\nQ 3153 47 2828 -22 \r\nQ 2503 -91 2169 -91 \r\nQ 1331 -91 842 396 \r\nQ 353 884 353 1716 \r\nQ 353 2575 817 3079 \r\nQ 1281 3584 2069 3584 \r\nQ 2775 3584 3186 3129 \r\nQ 3597 2675 3597 1894 \r\nz\r\nM 3022 2063 \r\nQ 3016 2534 2758 2815 \r\nQ 2500 3097 2075 3097 \r\nQ 1594 3097 1305 2825 \r\nQ 1016 2553 972 2059 \r\nL 3022 2063 \r\nz\r\n\" id=\"DejaVuSans-65\" transform=\"scale(0.015625)\"/>\r\n        <path d=\"M 2631 2963 \r\nQ 2534 3019 2420 3045 \r\nQ 2306 3072 2169 3072 \r\nQ 1681 3072 1420 2755 \r\nQ 1159 2438 1159 1844 \r\nL 1159 0 \r\nL 581 0 \r\nL 581 3500 \r\nL 1159 3500 \r\nL 1159 2956 \r\nQ 1341 3275 1631 3429 \r\nQ 1922 3584 2338 3584 \r\nQ 2397 3584 2469 3576 \r\nQ 2541 3569 2628 3553 \r\nL 2631 2963 \r\nz\r\n\" id=\"DejaVuSans-72\" transform=\"scale(0.015625)\"/>\r\n       </defs>\r\n       <use xlink:href=\"#DejaVuSans-61\"/>\r\n       <use x=\"61.279297\" xlink:href=\"#DejaVuSans-73\"/>\r\n       <use x=\"113.378906\" xlink:href=\"#DejaVuSans-69\"/>\r\n       <use x=\"141.162109\" xlink:href=\"#DejaVuSans-61\"/>\r\n       <use x=\"202.441406\" xlink:href=\"#DejaVuSans-6e\"/>\r\n       <use x=\"265.820312\" xlink:href=\"#DejaVuSans-2f\"/>\r\n       <use x=\"299.511719\" xlink:href=\"#DejaVuSans-70\"/>\r\n       <use x=\"362.988281\" xlink:href=\"#DejaVuSans-61\"/>\r\n       <use x=\"424.267578\" xlink:href=\"#DejaVuSans-63\"/>\r\n       <use x=\"479.248047\" xlink:href=\"#DejaVuSans-69\"/>\r\n       <use x=\"507.03125\" xlink:href=\"#DejaVuSans-66\"/>\r\n       <use x=\"542.236328\" xlink:href=\"#DejaVuSans-69\"/>\r\n       <use x=\"570.019531\" xlink:href=\"#DejaVuSans-63\"/>\r\n       <use x=\"625\" xlink:href=\"#DejaVuSans-20\"/>\r\n       <use x=\"656.787109\" xlink:href=\"#DejaVuSans-69\"/>\r\n       <use x=\"684.570312\" xlink:href=\"#DejaVuSans-73\"/>\r\n       <use x=\"736.669922\" xlink:href=\"#DejaVuSans-6c\"/>\r\n       <use x=\"764.453125\" xlink:href=\"#DejaVuSans-61\"/>\r\n       <use x=\"825.732422\" xlink:href=\"#DejaVuSans-6e\"/>\r\n       <use x=\"889.111328\" xlink:href=\"#DejaVuSans-64\"/>\r\n       <use x=\"952.587891\" xlink:href=\"#DejaVuSans-65\"/>\r\n       <use x=\"1014.111328\" xlink:href=\"#DejaVuSans-72\"/>\r\n      </g>\r\n     </g>\r\n    </g>\r\n    <g id=\"xtick_2\">\r\n     <g id=\"line2d_2\">\r\n      <g>\r\n       <use style=\"stroke:#000000;stroke-width:0.8;\" x=\"207.05\" xlink:href=\"#m3e45b3ce16\" y=\"225.373664\"/>\r\n      </g>\r\n     </g>\r\n     <g id=\"text_2\">\r\n      <!-- black -->\r\n      <g transform=\"translate(209.809375 258.917414)rotate(-90)scale(0.1 -0.1)\">\r\n       <defs>\r\n        <path d=\"M 3116 1747 \r\nQ 3116 2381 2855 2742 \r\nQ 2594 3103 2138 3103 \r\nQ 1681 3103 1420 2742 \r\nQ 1159 2381 1159 1747 \r\nQ 1159 1113 1420 752 \r\nQ 1681 391 2138 391 \r\nQ 2594 391 2855 752 \r\nQ 3116 1113 3116 1747 \r\nz\r\nM 1159 2969 \r\nQ 1341 3281 1617 3432 \r\nQ 1894 3584 2278 3584 \r\nQ 2916 3584 3314 3078 \r\nQ 3713 2572 3713 1747 \r\nQ 3713 922 3314 415 \r\nQ 2916 -91 2278 -91 \r\nQ 1894 -91 1617 61 \r\nQ 1341 213 1159 525 \r\nL 1159 0 \r\nL 581 0 \r\nL 581 4863 \r\nL 1159 4863 \r\nL 1159 2969 \r\nz\r\n\" id=\"DejaVuSans-62\" transform=\"scale(0.015625)\"/>\r\n        <path d=\"M 581 4863 \r\nL 1159 4863 \r\nL 1159 1991 \r\nL 2875 3500 \r\nL 3609 3500 \r\nL 1753 1863 \r\nL 3688 0 \r\nL 2938 0 \r\nL 1159 1709 \r\nL 1159 0 \r\nL 581 0 \r\nL 581 4863 \r\nz\r\n\" id=\"DejaVuSans-6b\" transform=\"scale(0.015625)\"/>\r\n       </defs>\r\n       <use xlink:href=\"#DejaVuSans-62\"/>\r\n       <use x=\"63.476562\" xlink:href=\"#DejaVuSans-6c\"/>\r\n       <use x=\"91.259766\" xlink:href=\"#DejaVuSans-61\"/>\r\n       <use x=\"152.539062\" xlink:href=\"#DejaVuSans-63\"/>\r\n       <use x=\"207.519531\" xlink:href=\"#DejaVuSans-6b\"/>\r\n      </g>\r\n     </g>\r\n    </g>\r\n    <g id=\"xtick_3\">\r\n     <g id=\"line2d_3\">\r\n      <g>\r\n       <use style=\"stroke:#000000;stroke-width:0.8;\" x=\"318.65\" xlink:href=\"#m3e45b3ce16\" y=\"225.373664\"/>\r\n      </g>\r\n     </g>\r\n     <g id=\"text_3\">\r\n      <!-- hispanic -->\r\n      <g transform=\"translate(321.409375 273.789289)rotate(-90)scale(0.1 -0.1)\">\r\n       <defs>\r\n        <path d=\"M 3513 2113 \r\nL 3513 0 \r\nL 2938 0 \r\nL 2938 2094 \r\nQ 2938 2591 2744 2837 \r\nQ 2550 3084 2163 3084 \r\nQ 1697 3084 1428 2787 \r\nQ 1159 2491 1159 1978 \r\nL 1159 0 \r\nL 581 0 \r\nL 581 4863 \r\nL 1159 4863 \r\nL 1159 2956 \r\nQ 1366 3272 1645 3428 \r\nQ 1925 3584 2291 3584 \r\nQ 2894 3584 3203 3211 \r\nQ 3513 2838 3513 2113 \r\nz\r\n\" id=\"DejaVuSans-68\" transform=\"scale(0.015625)\"/>\r\n       </defs>\r\n       <use xlink:href=\"#DejaVuSans-68\"/>\r\n       <use x=\"63.378906\" xlink:href=\"#DejaVuSans-69\"/>\r\n       <use x=\"91.162109\" xlink:href=\"#DejaVuSans-73\"/>\r\n       <use x=\"143.261719\" xlink:href=\"#DejaVuSans-70\"/>\r\n       <use x=\"206.738281\" xlink:href=\"#DejaVuSans-61\"/>\r\n       <use x=\"268.017578\" xlink:href=\"#DejaVuSans-6e\"/>\r\n       <use x=\"331.396484\" xlink:href=\"#DejaVuSans-69\"/>\r\n       <use x=\"359.179688\" xlink:href=\"#DejaVuSans-63\"/>\r\n      </g>\r\n     </g>\r\n    </g>\r\n    <g id=\"text_4\">\r\n     <!-- subject_race -->\r\n     <g transform=\"translate(175.482031 349.493977)scale(0.1 -0.1)\">\r\n      <defs>\r\n       <path d=\"M 544 1381 \r\nL 544 3500 \r\nL 1119 3500 \r\nL 1119 1403 \r\nQ 1119 906 1312 657 \r\nQ 1506 409 1894 409 \r\nQ 2359 409 2629 706 \r\nQ 2900 1003 2900 1516 \r\nL 2900 3500 \r\nL 3475 3500 \r\nL 3475 0 \r\nL 2900 0 \r\nL 2900 538 \r\nQ 2691 219 2414 64 \r\nQ 2138 -91 1772 -91 \r\nQ 1169 -91 856 284 \r\nQ 544 659 544 1381 \r\nz\r\nM 1991 3584 \r\nL 1991 3584 \r\nz\r\n\" id=\"DejaVuSans-75\" transform=\"scale(0.015625)\"/>\r\n       <path d=\"M 603 3500 \r\nL 1178 3500 \r\nL 1178 -63 \r\nQ 1178 -731 923 -1031 \r\nQ 669 -1331 103 -1331 \r\nL -116 -1331 \r\nL -116 -844 \r\nL 38 -844 \r\nQ 366 -844 484 -692 \r\nQ 603 -541 603 -63 \r\nL 603 3500 \r\nz\r\nM 603 4863 \r\nL 1178 4863 \r\nL 1178 4134 \r\nL 603 4134 \r\nL 603 4863 \r\nz\r\n\" id=\"DejaVuSans-6a\" transform=\"scale(0.015625)\"/>\r\n       <path d=\"M 1172 4494 \r\nL 1172 3500 \r\nL 2356 3500 \r\nL 2356 3053 \r\nL 1172 3053 \r\nL 1172 1153 \r\nQ 1172 725 1289 603 \r\nQ 1406 481 1766 481 \r\nL 2356 481 \r\nL 2356 0 \r\nL 1766 0 \r\nQ 1100 0 847 248 \r\nQ 594 497 594 1153 \r\nL 594 3053 \r\nL 172 3053 \r\nL 172 3500 \r\nL 594 3500 \r\nL 594 4494 \r\nL 1172 4494 \r\nz\r\n\" id=\"DejaVuSans-74\" transform=\"scale(0.015625)\"/>\r\n       <path d=\"M 3263 -1063 \r\nL 3263 -1509 \r\nL -63 -1509 \r\nL -63 -1063 \r\nL 3263 -1063 \r\nz\r\n\" id=\"DejaVuSans-5f\" transform=\"scale(0.015625)\"/>\r\n      </defs>\r\n      <use xlink:href=\"#DejaVuSans-73\"/>\r\n      <use x=\"52.099609\" xlink:href=\"#DejaVuSans-75\"/>\r\n      <use x=\"115.478516\" xlink:href=\"#DejaVuSans-62\"/>\r\n      <use x=\"178.955078\" xlink:href=\"#DejaVuSans-6a\"/>\r\n      <use x=\"206.738281\" xlink:href=\"#DejaVuSans-65\"/>\r\n      <use x=\"268.261719\" xlink:href=\"#DejaVuSans-63\"/>\r\n      <use x=\"323.242188\" xlink:href=\"#DejaVuSans-74\"/>\r\n      <use x=\"362.451172\" xlink:href=\"#DejaVuSans-5f\"/>\r\n      <use x=\"412.451172\" xlink:href=\"#DejaVuSans-72\"/>\r\n      <use x=\"453.564453\" xlink:href=\"#DejaVuSans-61\"/>\r\n      <use x=\"514.84375\" xlink:href=\"#DejaVuSans-63\"/>\r\n      <use x=\"569.824219\" xlink:href=\"#DejaVuSans-65\"/>\r\n     </g>\r\n    </g>\r\n   </g>\r\n   <g id=\"matplotlib.axis_2\">\r\n    <g id=\"ytick_1\">\r\n     <g id=\"line2d_4\">\r\n      <defs>\r\n       <path d=\"M 0 0 \r\nL -3.5 0 \r\n\" id=\"m40f5762f1b\" style=\"stroke:#000000;stroke-width:0.8;\"/>\r\n      </defs>\r\n      <g>\r\n       <use style=\"stroke:#000000;stroke-width:0.8;\" x=\"39.65\" xlink:href=\"#m40f5762f1b\" y=\"225.373664\"/>\r\n      </g>\r\n     </g>\r\n     <g id=\"text_5\">\r\n      <!-- 0 -->\r\n      <g transform=\"translate(26.2875 229.172883)scale(0.1 -0.1)\">\r\n       <defs>\r\n        <path d=\"M 2034 4250 \r\nQ 1547 4250 1301 3770 \r\nQ 1056 3291 1056 2328 \r\nQ 1056 1369 1301 889 \r\nQ 1547 409 2034 409 \r\nQ 2525 409 2770 889 \r\nQ 3016 1369 3016 2328 \r\nQ 3016 3291 2770 3770 \r\nQ 2525 4250 2034 4250 \r\nz\r\nM 2034 4750 \r\nQ 2819 4750 3233 4129 \r\nQ 3647 3509 3647 2328 \r\nQ 3647 1150 3233 529 \r\nQ 2819 -91 2034 -91 \r\nQ 1250 -91 836 529 \r\nQ 422 1150 422 2328 \r\nQ 422 3509 836 4129 \r\nQ 1250 4750 2034 4750 \r\nz\r\n\" id=\"DejaVuSans-30\" transform=\"scale(0.015625)\"/>\r\n       </defs>\r\n       <use xlink:href=\"#DejaVuSans-30\"/>\r\n      </g>\r\n     </g>\r\n    </g>\r\n    <g id=\"ytick_2\">\r\n     <g id=\"line2d_5\">\r\n      <g>\r\n       <use style=\"stroke:#000000;stroke-width:0.8;\" x=\"39.65\" xlink:href=\"#m40f5762f1b\" y=\"182.498775\"/>\r\n      </g>\r\n     </g>\r\n     <g id=\"text_6\">\r\n      <!-- 500 -->\r\n      <g transform=\"translate(13.5625 186.297994)scale(0.1 -0.1)\">\r\n       <defs>\r\n        <path d=\"M 691 4666 \r\nL 3169 4666 \r\nL 3169 4134 \r\nL 1269 4134 \r\nL 1269 2991 \r\nQ 1406 3038 1543 3061 \r\nQ 1681 3084 1819 3084 \r\nQ 2600 3084 3056 2656 \r\nQ 3513 2228 3513 1497 \r\nQ 3513 744 3044 326 \r\nQ 2575 -91 1722 -91 \r\nQ 1428 -91 1123 -41 \r\nQ 819 9 494 109 \r\nL 494 744 \r\nQ 775 591 1075 516 \r\nQ 1375 441 1709 441 \r\nQ 2250 441 2565 725 \r\nQ 2881 1009 2881 1497 \r\nQ 2881 1984 2565 2268 \r\nQ 2250 2553 1709 2553 \r\nQ 1456 2553 1204 2497 \r\nQ 953 2441 691 2322 \r\nL 691 4666 \r\nz\r\n\" id=\"DejaVuSans-35\" transform=\"scale(0.015625)\"/>\r\n       </defs>\r\n       <use xlink:href=\"#DejaVuSans-35\"/>\r\n       <use x=\"63.623047\" xlink:href=\"#DejaVuSans-30\"/>\r\n       <use x=\"127.246094\" xlink:href=\"#DejaVuSans-30\"/>\r\n      </g>\r\n     </g>\r\n    </g>\r\n    <g id=\"ytick_3\">\r\n     <g id=\"line2d_6\">\r\n      <g>\r\n       <use style=\"stroke:#000000;stroke-width:0.8;\" x=\"39.65\" xlink:href=\"#m40f5762f1b\" y=\"139.623886\"/>\r\n      </g>\r\n     </g>\r\n     <g id=\"text_7\">\r\n      <!-- 1000 -->\r\n      <g transform=\"translate(7.2 143.423105)scale(0.1 -0.1)\">\r\n       <defs>\r\n        <path d=\"M 794 531 \r\nL 1825 531 \r\nL 1825 4091 \r\nL 703 3866 \r\nL 703 4441 \r\nL 1819 4666 \r\nL 2450 4666 \r\nL 2450 531 \r\nL 3481 531 \r\nL 3481 0 \r\nL 794 0 \r\nL 794 531 \r\nz\r\n\" id=\"DejaVuSans-31\" transform=\"scale(0.015625)\"/>\r\n       </defs>\r\n       <use xlink:href=\"#DejaVuSans-31\"/>\r\n       <use x=\"63.623047\" xlink:href=\"#DejaVuSans-30\"/>\r\n       <use x=\"127.246094\" xlink:href=\"#DejaVuSans-30\"/>\r\n       <use x=\"190.869141\" xlink:href=\"#DejaVuSans-30\"/>\r\n      </g>\r\n     </g>\r\n    </g>\r\n    <g id=\"ytick_4\">\r\n     <g id=\"line2d_7\">\r\n      <g>\r\n       <use style=\"stroke:#000000;stroke-width:0.8;\" x=\"39.65\" xlink:href=\"#m40f5762f1b\" y=\"96.748997\"/>\r\n      </g>\r\n     </g>\r\n     <g id=\"text_8\">\r\n      <!-- 1500 -->\r\n      <g transform=\"translate(7.2 100.548216)scale(0.1 -0.1)\">\r\n       <use xlink:href=\"#DejaVuSans-31\"/>\r\n       <use x=\"63.623047\" xlink:href=\"#DejaVuSans-35\"/>\r\n       <use x=\"127.246094\" xlink:href=\"#DejaVuSans-30\"/>\r\n       <use x=\"190.869141\" xlink:href=\"#DejaVuSans-30\"/>\r\n      </g>\r\n     </g>\r\n    </g>\r\n    <g id=\"ytick_5\">\r\n     <g id=\"line2d_8\">\r\n      <g>\r\n       <use style=\"stroke:#000000;stroke-width:0.8;\" x=\"39.65\" xlink:href=\"#m40f5762f1b\" y=\"53.874108\"/>\r\n      </g>\r\n     </g>\r\n     <g id=\"text_9\">\r\n      <!-- 2000 -->\r\n      <g transform=\"translate(7.2 57.673327)scale(0.1 -0.1)\">\r\n       <defs>\r\n        <path d=\"M 1228 531 \r\nL 3431 531 \r\nL 3431 0 \r\nL 469 0 \r\nL 469 531 \r\nQ 828 903 1448 1529 \r\nQ 2069 2156 2228 2338 \r\nQ 2531 2678 2651 2914 \r\nQ 2772 3150 2772 3378 \r\nQ 2772 3750 2511 3984 \r\nQ 2250 4219 1831 4219 \r\nQ 1534 4219 1204 4116 \r\nQ 875 4013 500 3803 \r\nL 500 4441 \r\nQ 881 4594 1212 4672 \r\nQ 1544 4750 1819 4750 \r\nQ 2544 4750 2975 4387 \r\nQ 3406 4025 3406 3419 \r\nQ 3406 3131 3298 2873 \r\nQ 3191 2616 2906 2266 \r\nQ 2828 2175 2409 1742 \r\nQ 1991 1309 1228 531 \r\nz\r\n\" id=\"DejaVuSans-32\" transform=\"scale(0.015625)\"/>\r\n       </defs>\r\n       <use xlink:href=\"#DejaVuSans-32\"/>\r\n       <use x=\"63.623047\" xlink:href=\"#DejaVuSans-30\"/>\r\n       <use x=\"127.246094\" xlink:href=\"#DejaVuSans-30\"/>\r\n       <use x=\"190.869141\" xlink:href=\"#DejaVuSans-30\"/>\r\n      </g>\r\n     </g>\r\n    </g>\r\n    <g id=\"ytick_6\">\r\n     <g id=\"line2d_9\">\r\n      <g>\r\n       <use style=\"stroke:#000000;stroke-width:0.8;\" x=\"39.65\" xlink:href=\"#m40f5762f1b\" y=\"10.999219\"/>\r\n      </g>\r\n     </g>\r\n     <g id=\"text_10\">\r\n      <!-- 2500 -->\r\n      <g transform=\"translate(7.2 14.798437)scale(0.1 -0.1)\">\r\n       <use xlink:href=\"#DejaVuSans-32\"/>\r\n       <use x=\"63.623047\" xlink:href=\"#DejaVuSans-35\"/>\r\n       <use x=\"127.246094\" xlink:href=\"#DejaVuSans-30\"/>\r\n       <use x=\"190.869141\" xlink:href=\"#DejaVuSans-30\"/>\r\n      </g>\r\n     </g>\r\n    </g>\r\n   </g>\r\n   <g id=\"patch_9\">\r\n    <path d=\"M 39.65 225.373664 \r\nL 39.65 7.933664 \r\n\" style=\"fill:none;stroke:#000000;stroke-linecap:square;stroke-linejoin:miter;stroke-width:0.8;\"/>\r\n   </g>\r\n   <g id=\"patch_10\">\r\n    <path d=\"M 374.45 225.373664 \r\nL 374.45 7.933664 \r\n\" style=\"fill:none;stroke:#000000;stroke-linecap:square;stroke-linejoin:miter;stroke-width:0.8;\"/>\r\n   </g>\r\n   <g id=\"patch_11\">\r\n    <path d=\"M 39.65 225.373664 \r\nL 374.45 225.373664 \r\n\" style=\"fill:none;stroke:#000000;stroke-linecap:square;stroke-linejoin:miter;stroke-width:0.8;\"/>\r\n   </g>\r\n   <g id=\"patch_12\">\r\n    <path d=\"M 39.65 7.933664 \r\nL 374.45 7.933664 \r\n\" style=\"fill:none;stroke:#000000;stroke-linecap:square;stroke-linejoin:miter;stroke-width:0.8;\"/>\r\n   </g>\r\n   <g id=\"legend_1\">\r\n    <g id=\"patch_13\">\r\n     <path d=\"M 300.846875 60.246164 \r\nL 367.45 60.246164 \r\nQ 369.45 60.246164 369.45 58.246164 \r\nL 369.45 14.933664 \r\nQ 369.45 12.933664 367.45 12.933664 \r\nL 300.846875 12.933664 \r\nQ 298.846875 12.933664 298.846875 14.933664 \r\nL 298.846875 58.246164 \r\nQ 298.846875 60.246164 300.846875 60.246164 \r\nz\r\n\" style=\"fill:#ffffff;opacity:0.8;stroke:#cccccc;stroke-linejoin:miter;\"/>\r\n    </g>\r\n    <g id=\"text_11\">\r\n     <!-- arrest_made -->\r\n     <g transform=\"translate(302.846875 24.532102)scale(0.1 -0.1)\">\r\n      <defs>\r\n       <path d=\"M 3328 2828 \r\nQ 3544 3216 3844 3400 \r\nQ 4144 3584 4550 3584 \r\nQ 5097 3584 5394 3201 \r\nQ 5691 2819 5691 2113 \r\nL 5691 0 \r\nL 5113 0 \r\nL 5113 2094 \r\nQ 5113 2597 4934 2840 \r\nQ 4756 3084 4391 3084 \r\nQ 3944 3084 3684 2787 \r\nQ 3425 2491 3425 1978 \r\nL 3425 0 \r\nL 2847 0 \r\nL 2847 2094 \r\nQ 2847 2600 2669 2842 \r\nQ 2491 3084 2119 3084 \r\nQ 1678 3084 1418 2786 \r\nQ 1159 2488 1159 1978 \r\nL 1159 0 \r\nL 581 0 \r\nL 581 3500 \r\nL 1159 3500 \r\nL 1159 2956 \r\nQ 1356 3278 1631 3431 \r\nQ 1906 3584 2284 3584 \r\nQ 2666 3584 2933 3390 \r\nQ 3200 3197 3328 2828 \r\nz\r\n\" id=\"DejaVuSans-6d\" transform=\"scale(0.015625)\"/>\r\n      </defs>\r\n      <use xlink:href=\"#DejaVuSans-61\"/>\r\n      <use x=\"61.279297\" xlink:href=\"#DejaVuSans-72\"/>\r\n      <use x=\"100.642578\" xlink:href=\"#DejaVuSans-72\"/>\r\n      <use x=\"139.505859\" xlink:href=\"#DejaVuSans-65\"/>\r\n      <use x=\"201.029297\" xlink:href=\"#DejaVuSans-73\"/>\r\n      <use x=\"253.128906\" xlink:href=\"#DejaVuSans-74\"/>\r\n      <use x=\"292.337891\" xlink:href=\"#DejaVuSans-5f\"/>\r\n      <use x=\"342.337891\" xlink:href=\"#DejaVuSans-6d\"/>\r\n      <use x=\"439.75\" xlink:href=\"#DejaVuSans-61\"/>\r\n      <use x=\"501.029297\" xlink:href=\"#DejaVuSans-64\"/>\r\n      <use x=\"564.505859\" xlink:href=\"#DejaVuSans-65\"/>\r\n     </g>\r\n    </g>\r\n    <g id=\"patch_14\">\r\n     <path d=\"M 307.594531 39.488352 \r\nL 327.594531 39.488352 \r\nL 327.594531 32.488352 \r\nL 307.594531 32.488352 \r\nz\r\n\" style=\"fill:#1f77b4;\"/>\r\n    </g>\r\n    <g id=\"text_12\">\r\n     <!-- False -->\r\n     <g transform=\"translate(335.594531 39.488352)scale(0.1 -0.1)\">\r\n      <defs>\r\n       <path d=\"M 628 4666 \r\nL 3309 4666 \r\nL 3309 4134 \r\nL 1259 4134 \r\nL 1259 2759 \r\nL 3109 2759 \r\nL 3109 2228 \r\nL 1259 2228 \r\nL 1259 0 \r\nL 628 0 \r\nL 628 4666 \r\nz\r\n\" id=\"DejaVuSans-46\" transform=\"scale(0.015625)\"/>\r\n      </defs>\r\n      <use xlink:href=\"#DejaVuSans-46\"/>\r\n      <use x=\"48.394531\" xlink:href=\"#DejaVuSans-61\"/>\r\n      <use x=\"109.673828\" xlink:href=\"#DejaVuSans-6c\"/>\r\n      <use x=\"137.457031\" xlink:href=\"#DejaVuSans-73\"/>\r\n      <use x=\"189.556641\" xlink:href=\"#DejaVuSans-65\"/>\r\n     </g>\r\n    </g>\r\n    <g id=\"patch_15\">\r\n     <path d=\"M 307.594531 54.166477 \r\nL 327.594531 54.166477 \r\nL 327.594531 47.166477 \r\nL 307.594531 47.166477 \r\nz\r\n\" style=\"fill:#ff7f0e;\"/>\r\n    </g>\r\n    <g id=\"text_13\">\r\n     <!-- True -->\r\n     <g transform=\"translate(335.594531 54.166477)scale(0.1 -0.1)\">\r\n      <defs>\r\n       <path d=\"M -19 4666 \r\nL 3928 4666 \r\nL 3928 4134 \r\nL 2272 4134 \r\nL 2272 0 \r\nL 1638 0 \r\nL 1638 4134 \r\nL -19 4134 \r\nL -19 4666 \r\nz\r\n\" id=\"DejaVuSans-54\" transform=\"scale(0.015625)\"/>\r\n      </defs>\r\n      <use xlink:href=\"#DejaVuSans-54\"/>\r\n      <use x=\"46.333984\" xlink:href=\"#DejaVuSans-72\"/>\r\n      <use x=\"87.447266\" xlink:href=\"#DejaVuSans-75\"/>\r\n      <use x=\"150.826172\" xlink:href=\"#DejaVuSans-65\"/>\r\n     </g>\r\n    </g>\r\n   </g>\r\n  </g>\r\n </g>\r\n <defs>\r\n  <clipPath id=\"pa4d334f3e1\">\r\n   <rect height=\"217.44\" width=\"334.8\" x=\"39.65\" y=\"7.933664\"/>\r\n  </clipPath>\r\n </defs>\r\n</svg>\r\n",
      "image/png": "[encoded data removed]"
     },
     "metadata": {
      "needs_background": "light"
     }
    }
   ],
   "source": [
    "races.plot(kind='bar')"
   ]
  },
  {
   "cell_type": "code",
   "execution_count": 38,
   "metadata": {},
   "outputs": [
    {
     "output_type": "stream",
     "name": "stdout",
     "text": [
      "DEF - Condition Of Vehicle                                                                                      0.153816\nVO - Regulations In Municipalities                                                                              0.127279\nVNI - Vehicle Not Inspected Within 15 Days Of Vt. Registration                                                  0.098919\nIR - Illuminations Required                                                                                     0.066131\nSL1 - 1-10 MPH Over Speed Limit                                                                                 0.061963\n                                                                                                                  ...   \nFOO - Failure To Obey An Officer|SL1 - 1-10 MPH Over Speed Limit                                                0.000033\nSL1 - 1-10 MPH Over Speed Limit|PL - Possession Of License Certificate                                          0.000033\nIX4 - Inspection expired within 14 days|INS - Operating Without Liability Insurance                             0.000033\nDR - Failing To Driving To The Right|VO - Regulations In Municipalities                                         0.000033\nVO - Regulations In Municipalities|LES - Unreasonable And Imprudent Speed When Special Hazards Exist - Local    0.000033\nName: violation, Length: 965, dtype: float64\n"
     ]
    }
   ],
   "source": [
    "print(vt.violation.value_counts(normalize=True))\n"
   ]
  },
  {
   "cell_type": "code",
   "execution_count": 40,
   "metadata": {},
   "outputs": [],
   "source": [
    "search_rate=vt.groupby('violation').search_conducted.mean()"
   ]
  },
  {
   "cell_type": "code",
   "execution_count": 42,
   "metadata": {
    "tags": [
     "outputPrepend"
    ]
   },
   "outputs": [
    {
     "output_type": "stream",
     "name": "stdout",
     "text": [
      "INS - Operating Without Liability Insurance'\n 'OSC - Operating After Suspension/Revocation/Refusal- Second Offense|INS - Operating Without Liability Insurance|NR - Persons Required To Register|VNI - Vehicle Not Inspected Within 15 Days Of Vt. Registration'\n 'NL - Operating Without A License|INS - Operating Without Liability Insurance|NR - Persons Required To Register'\n 'NR - Persons Required To Register|INS - Operating Without Liability Insurance|OSC - Operating After Suspension/Revocation/Refusal- First Offense'\n 'DR - Failing To Driving To The Right|IR - Illuminations Required'\n 'PNA - Misuse Of Number Plates|LBK - Limitations On Backing|NL - Operating Without A License'\n 'Operating without displaying validation sticker on registration plate|INS - Operating Without Liability Insurance'\n 'NR - Persons Required To Register|INS - Operating Without Liability Insurance|INS - Operating Without Liability Insurance'\n 'VNI - Vehicle Not Inspected Within 15 Days Of Vt. Registration|FYL - Vehicle Turning Left'\n 'VO - Regulations In Municipalities|DEF - Condition Of Vehicle|VNI - Vehicle Not Inspected Within 15 Days Of Vt. Registration'\n 'SCL - Sirens And Colored Lamps'\n 'NL - Operating Without A License|PED - Junior Operator Use of Portable Electronic Device'\n 'LES - Unreasonable And Imprudent Speed When Special Hazards Exist - Local|NR - Persons Required To Register'\n 'NL - Operating Without A License|ESA - Unreasonable And Imprudent Speed For Conditions And Hazards'\n 'DLT - Driving On Roadways Laned For Traffic|TCD - Obedience To Traffic Control Devices'\n 'LBR - 11-20 MPH over speed limit - Local'\n 'LBR - 21-30 MPH over speed limit - Local'\n 'OWS - Obstructing Windshields|DP - Failed To Display Front Registration Plate|SIG - Signals Required'\n 'OWS - Obstructing Windshields|VNI - Vehicle Not Inspected Within 15 Days Of Vt. Registration'\n 'LAS - Unreasonable And Imprudent Speed For Conditions And Hazards -Local|FTC - Following Too Closely'\n 'NR - Persons Required To Register|CEL - Using Portable Electronic Device -  1st violation'\n 'OWP - Operating Unregisterable Motor Vehicle Without Permit'\n 'MLT - Operating Motorcycles And Mopeds On Roadways Laned For Traffic'\n 'NL - Operating Without A License|FCC - Failure To Carry Registration Certificate|INS - Operating Without Liability Insurance'\n 'OSC - Operating After Suspension/Revocation/Refusal- First Offense|CRS - Failure to use child restraint system- First offense|VO - Regulations In Municipalities'\n 'VNI - Vehicle Not Inspected Within 15 Days Of Vt. Registration|TCS - Traffic Control Signals|FYL - Vehicle Turning Left|INS - Operating Without Liability Insurance'\n 'DIS - Inspection Sticker Not Assigned To Vehicle|PNA - Misuse Of Number Plates|INS - Operating Without Liability Insurance'\n 'IR - Illuminations Required|SL2 - 11-20 MPH Over Speed Limit|DLT - Driving On Roadways Laned For Traffic'\n 'RBI - Riding On Bicycle'\n 'TXD - Texting Prohibited -V1|VNI - Vehicle Not Inspected Within 15 Days Of Vt. Registration|VNI - Vehicle Not Inspected Within 15 Days Of Vt. Registration|NL - Operating Without A License'\n 'FS - Flashing Signals|DLT - Driving On Roadways Laned For Traffic'\n 'OSC - Operating After Suspension/Revocation/Refusal- Second Offense|OSC - Operating After Suspension/Revocation/Refusal- First Offense'\n 'FS - Flashing Signals|PAV - Passenger Age Violation'\n 'OSC - Operating After Suspension/Revocation/Refusal- First Offense|CRS - Failure to use child restraint system- First offense'\n 'VNI - Vehicle Not Inspected Within 15 Days Of Vt. Registration|SL2 - 11-20 MPH Over Speed Limit'\n 'OSC - Operating After Suspension/Revocation/Refusal- First Offense|DP - Failed To Display Front Registration Plate|SIG - Signals Required'\n 'FS - Flashing Signals|SL1 - 1-10 MPH Over Speed Limit|DEF - Condition Of Vehicle'\n 'VNI - Vehicle Not Inspected Within 15 Days Of Vt. Registration|IR - Illuminations Required'\n 'OSC - Operating After Suspension/Revocation/Refusal- First Offense|SL3 - 21-30 MPH Over Speed Limit'\n 'TMD - Trespass By Motor Vehicle With Property Damage|BTW - Position Of Operator (Behind The Wheel)'\n 'S02 - 11-20 MPH Over Speed Limit|INS - Operating Without Liability Insurance'\n 'NL - Operating Without A License|FCC - Failure To Carry Registration Certificate'\n 'SL1 - 1-10 MPH Over Speed Limit|OSC - Operating After Suspension/Revocation/Refusal- First Offense'\n 'INS - Operating Without Liability Insurance|FS - Flashing Signals'\n 'FYL - Vehicle Turning Left|PKR - Stopping; Standing; Or Parking In Restricted Areas|OWS - Obstructing Windshields'\n 'FSB - Failure To Use Seat Belts - V1|FYL - Vehicle Turning Left|INS - Operating Without Liability Insurance'\n 'FYY - Stop Sign|NL - Operating Without A License|VNI - Vehicle Not Inspected Within 15 Days Of Vt. Registration'\n 'DP - Failed To Display Front Registration Plate|SL2 - 11-20 MPH Over Speed Limit'\n 'OCD - Driver Possessed Open Container|SL1 - 1-10 MPH Over Speed Limit'\n 'OSC - Operating After Suspension/Revocation/Refusal- First Offense|NR - Persons Required To Register|ORR - One-Way Roadways And Rotaries|PNA - Misuse Of Number Plates|INS - Operating Without Liability Insurance'\n 'DR - Failing To Driving To The Right|FOO - Failure To Obey An Officer'\n 'FS - Flashing Signals|SIG - Signals Required'\n 'OSC - Operating After Suspension/Revocation/Refusal- First Offense|NR - Persons Required To Register|TCS - Traffic Control Signals'\n 'LES - Unreasonable And Imprudent Speed When Special Hazards Exist - Local|INS - Operating Without Liability Insurance'\n 'INS - Operating Without Liability Insurance|FYE - Operation On Approach Of Emergency Vehicles|OSC - Operating After Suspension/Revocation/Refusal- Second Offense|VNI - Vehicle Not Inspected Within 15 Days Of Vt. Registration'\n 'LP - Loaning Or Permitting The Use Of Number Plates'\n 'INS - Operating Without Liability Insurance|LBK - Limitations On Backing|OCD - Driver Possessed Open Container'\n 'PNA - Misuse Of Number Plates|VO - Regulations In Municipalities'\n 'INS - Operating Without Liability Insurance|DIS - Inspection Sticker Not Assigned To Vehicle'\n 'TXD - Texting While Operating Moving Motor Vehicle - 1st Offense|DEF - Condition Of Vehicle'\n 'NH - Motorcycles- Headgear|VNI - Vehicle Not Inspected Within 15 Days Of Vt. Registration|INS - Operating Without Liability Insurance|CM2 - Display Fictitious Or Altered License/Registration|INS - Operating Without Liability Insurance'\n 'INS - Operating Without Liability Insurance|CM4 - Display As Own License Not Issued|VNI - Vehicle Not Inspected Within 15 Days Of Vt. Registration'\n 'FS - Flashing Signals|VO - Regulations In Municipalities'\n 'CEL - Using Portable Electronic Device -  1st violation|OSC - Operating After Suspension/Revocation/Refusal- First Offense'\n '21A - Person under 21- Alcohol concentration of 0.02 or more|LCS - Lane Control Signals'\n 'OSC - Operating After Suspension/Revocation/Refusal- First Offense|INS - Operating Without Liability Insurance|SPV - Starting Parked Vehicles'\n 'INS - Operating Without Liability Insurance|OSC - Operating After Suspension/Revocation/Refusal- First Offense|FYL - Vehicle Turning Left'\n 'INS - Operating Without Liability Insurance|OSC - Operating After Suspension/Revocation/Refusal- First Offense|PNA - Misuse Of Number Plates'\n 'NR - Persons Required To Register|DP - Failed To Display Front Registration Plate'\n 'DLT - Driving On Roadways Laned For Traffic|FYY - Stop Sign'\n 'DP - Failed To Display Front Registration Plate|NR - Persons Required To Register'\n 'SL4 - 31 Or More MPH Over Speed Limit|SIG - Signals Required|POL - Passing On The Left|MLT - Operating Motorcycles And Mopeds On Roadways Laned For Traffic'\n 'OWS - Obstructing Windshields|PL - Possession Of License Certificate'\n 'PGH - Putting Glass, Etc., On Highways Prohibited'\n 'INS - Operating Without Liability Insurance|SL4 - 31 Or More MPH Over Speed Limit'\n 'INS - Operating Without Liability Insurance|FCC - Failure To Carry Registration Certificate'\n 'OSC - Operating After Suspension/Revocation/Refusal- Second Offense|FTC - Following Too Closely|INS - Operating Without Liability Insurance'\n 'INS - Operating Without Liability Insurance|NR - Persons Required To Register|NL - Operating Without A License|FYY - Yield Sign'\n 'DP - Failed To Display Front Registration Plate|PL - Possession Of License Certificate'\n 'SL2 - 11-20 MPH Over Speed Limit|TXD - Texting While Operating Moving Motor Vehicle - 1st Offense'\n 'VO - Regulations In Municipalities|S02 - 11-20 MPH Over Speed Limit'\n 'INS - Operating Without Liability Insurance|NR - Persons Required To Register|NL - Operating Without A License|DEF - Condition Of Vehicle'\n 'VO - Regulations In Municipalities|ORR - One-Way Roadways And Rotaries'\n 'AEI - Vehicle Approaching Or Entering Intersection|VO - Regulations In Municipalities'\n 'OSC - Operating After Suspension/Revocation/Refusal- First Offense|CEL - Using Portable Electronic Device â€“ 1st violation'\n 'NL - Operating Without A License|NR - Persons Required To Register|PNA - Misuse Of Number Plates|INS - Operating Without Liability Insurance'\n 'VO - Regulations In Municipalities|SL4 - 31 Or More MPH Over Speed Limit'\n 'OIL - Operating Driving School/Providing Driver Instruction Without A License'\n 'ESA - Unreasonable And Imprudent Speed For Conditions And Hazards|DLT - Driving On Roadways Laned For Traffic'\n 'LAS - Unreasonable And Imprudent Speed For Conditions And Hazards - Local|BR - 11-20 MPH Over Speed Limit'\n 'Operating without displaying validation sticker on registration plate|VO - Regulations In Municipalities'\n 'CEL - Using Portable Electronic Device â€“ 1st violation|VO - Regulations In Municipalities'\n 'FTC - Following Too Closely|INS - Operating Without Liability Insurance'\n 'OSC - Operating After Suspension/Revocation/Refusal- 1st Offense'\n 'FOO - Failure To Obey An Officer|NL - Operating Without A License'\n 'SL2 - 11-20 MPH Over Speed Limit|INS - Operating Without Liability Insurance|NR - Persons Required To Register'\n 'DIS - Inspection Sticker Not Assigned To Vehicle|INS - Operating Without Liability Insurance|LBK - Limitations On Backing'\n 'NH - Motorcycles- Headgear|NL - Operating Without A License'\n 'NR - Persons Required To Register|SIG - Signals Required'\n 'INS - Operating Without Liability Insurance|OSC - Operating After Suspension/Revocation/Refusal- First Offense|NR - Persons Required To Register'\n 'VO - Regulations In Municipalities|TXD - Texting While Operating Moving Motor Vehicle - 1st Offense'\n 'DP - Failed To Display Front Registration Plate|VNI - Vehicle Not Inspected Within 15 Days Of Vt. Registration|NR - Persons Required To Register'\n 'PNA - Misuse Of Number Plates|NR - Persons Required To Register|TCS - Traffic Control Signals'\n 'DP2 - Failed To Display Front And Rear Registration Plates|INS - Operating Without Liability Insurance'\n 'IX4 - IX4 Inspection Expired Within 14 Days'\n 'DP - Failed To Display Front Registration Plate|NR - Persons Required To Register|21D - Person under 21- Subsequent refusal to submit to breath test|PL - Possession Of License Certificate'\n 'NL - Operating Without A License|SL1 - 1-10 MPH Over Speed Limit'\n 'OSC - Operating After Suspension/Revocation/Refusal- First Offense|OSC - Operating After Suspension/Revocation/Refusal- First Offense|VO - Regulations In Municipalities'\n 'OSC - Operating After Suspension/Revocation/Refusal- Second Offense|TCD - Obedience To Traffic Control Devices'\n 'PVU - Improperly Passing Vulnerable User'\n 'EPR - Vehicle Entering From Private Road|ORR - One-Way Roadways And Rotaries'\n 'SL1 - 1-10 MPH Over Speed Limit|PL - Possession Of License Certificate'\n 'VNI - Vehicle Not Inspected Within 15 Days Of Vt. Registration|CM1 - Counterfeit Plates, Stickers, Etcetera'\n 'OSC - Operating After Suspension/Revocation/Refusal- First Offense|FTC - Following Too Closely'\n 'VO - Regulations In Municipalities|21D - Person under 21- Subsequent refusal to submit to breath test'\n 'NAC - Notification Of Change Of Name Or Address|BTW - Position Of Operator (Behind The Wheel)|DR - Failing To Driving To The Right'\n 'DIS - Inspection Sticker Not Assigned To Vehicle|FTC - Following Too Closely'\n 'FYE - Operation On Approach Of Emergency Vehicles|SIG - Signals Required'\n 'OSC - Operating After Suspension/Revocation/Refusal- Second Offense|NR - Persons Required To Register|S00 - 1-10 MPH Over Speed Limit'\n 'OWS - Obstructing Windshields|DP - Failed To Display Front Registration Plate'\n 'INS - Operating Without Liability Insurance|TCS - Traffic Control Signals|NR - Persons Required To Register'\n 'OSC - Operating After Suspension/Revocation/Refusal- Second Offense|NR - Persons Required To Register|DEF - Condition Of Vehicle'\n 'CM1 - Counterfeit Plates, Stickers, Etcetera|OSC - Operating After Suspension/Revocation/Refusal- Second Offense|INS - Operating Without Liability Insurance'\n 'TCD - Obedience To Traffic Control Devices|SL1 - 1-10 MPH Over Speed Limit'\n 'CM3 - Loaning License'\n 'AWD - Consuming Alcoholic Beverage While Driving|INS - Operating Without Liability Insurance|FYL - Vehicle Turning Left'\n 'VNI - Vehicle Not Inspected Within 15 Days Of Vt. Registration|NR - Persons Required To Register|NL - Operating Without A License'\n 'FYY - Stop Sign|S00 - 1-10 MPH Over Speed Limit'\n 'NL - Operating Without A License|NR - Persons Required To Register|DLT - Driving On Roadways Laned For Traffic'\n '21C - Person under 21- Refusal to submit to breath test|SL2 - 11-20 MPH Over Speed Limit'\n 'DP - Failed To Display Front Registration Plate|DEF - Condition Of Vehicle'\n \"TXD - Texting While Operating Moving Motor Vehicle - 1st Offense|FYP - Pedestrian'S Right Of Way In Crosswalks\"\n 'NAC - Notification Of Change Of Name Or Address|DEF - Condition Of Vehicle'\n 'DR - Failing To Driving To The Right|SPV - Starting Parked Vehicles'\n 'NL - Operating Without A License|VO - Regulations In Municipalities|NH - Motorcycles- Headgear'\n 'OSC - Operating After Suspension/Revocation/Refusal- First Offense|SPV - Starting Parked Vehicles|OCD - Driver Possessed Open Container'\n 'DP - Failed To Display Front Registration Plate|OSC - Operating After Suspension/Revocation/Refusal- First Offense|NR - Persons Required To Register'\n '21046 - Disorderly Conduct-1st Offense Waiver Penalty'\n 'NL - Operating Without A License|INS - Operating Without Liability Insurance|FOO - Failure To Obey An Officer|FCC - Failure To Carry Registration Certificate'\n 'SIG - Signals Required|ESD - Unreasonable And Imprudent Speed When Special Hazards Exist|SIG - Signals Required|VO - Regulations In Municipalities'\n 'VO - Regulations In Municipalities|FYE - Operation On Approach Of Emergency Vehicles'\n 'NR - Persons Required To Register|PNA - Misuse Of Number Plates|INS - Operating Without Liability Insurance|NL - Operating Without A License'\n 'VNI - Vehicle Not Inspected Within 15 Days Of Vt. Registration|TCD - Obedience To Traffic Control Devices|OSC - Operating After Suspension/Revocation/Refusal- First Offense'\n 'OSC - Operating After Suspension/Revocation/Refusal- First Offense|FYY - Stop Sign|INS - Operating Without Liability Insurance'\n 'LES - Unreasonable And Imprudent Speed When Special Hazards Exist - Local|OCD - Driver Possessed Open Container'\n 'PNA - Misuse Of Number Plates|SL1 - 1-10 MPH Over Speed Limit|VO - Regulations In Municipalities|NR - Persons Required To Register'\n 'OSC - Operating After Suspension/Revocation/Refusal- First Offense|HP - Parking In A Handicapped Parking Space'\n 'NL - Operating Without A License|NL - Operating Without A License|TL - Tail Lights'\n 'ORR - One-Way Roadways And Rotaries|NR - Persons Required To Register|VNI - Vehicle Not Inspected Within 15 Days Of Vt. Registration'\n 'FYE - Operation On Approach Of Emergency Vehicles|NL - Operating Without A License'\n 'SL2 - 11-20 MPH Over Speed Limit|LOP - Limitations On Passing'\n 'FCC - Failure To Carry Registration Certificate|VO - Regulations In Municipalities|NAC - Notification Of Change Of Name Or Address'\n 'OSC - Operating After Suspension/Revocation/Refusal- First Offense|FYL - Vehicle Turning Left|FPI - Failure To Provide Identity To Enforcement Officer'\n 'NR - Persons Required To Register|VO - Regulations In Municipalities|OSC - Operating After Suspension/Revocation/Refusal- First Offense'\n 'PNA - Misuse Of Number Plates|DEF - Condition Of Vehicle'\n 'SIG - Signals Required|PKR - Stopping; Standing; Or Parking In Restricted Areas'\n 'DP - Failed To Display Front Registration Plate|DP2 - Failed To Display Front And Rear Registration Plates'\n 'TCS - Traffic Control Signals|DLT - Driving On Roadways Laned For Traffic'\n 'INS - Operating Without Liability Insurance|DSL - Directional Signal Lamps'\n 'PKR - Stopping; Standing; Or Parking In Restricted Areas|DLT - Driving On Roadways Laned For Traffic'\n 'OSC - Operating After Suspension/Revocation/Refusal- First Offense|NR - Persons Required To Register|INS - Operating Without Liability Insurance|DEF - Condition Of Vehicle'\n 'NR - Persons Required To Register|OCD - Driver Possessed Open Container'\n 'DP - Failed To Display Front Registration Plate|INS - Operating Without Liability Insurance|Operating without displaying validation sticker on registration plate'\n 'NR - Persons Required To Register|CEL - Using Portable Electronic Device -  1st violation|NAC - Notification Of Change Of Name Or Address'\n 'ORR - One-Way Roadways And Rotaries|IR - Illuminations Required'\n 'CRS - Failure to use child restraint system- First offense|DEF - Condition Of Vehicle|DLT - Driving On Roadways Laned For Traffic'\n 'NR - Persons Required To Register|NL - Operating Without A License|FYL - Vehicle Turning Left|INS - Operating Without Liability Insurance'\n 'INS - Operating Without Liability Insurance|TI - Turning At Intersections'\n 'TXD - Texting While Operating Moving Motor Vehicle - 1st Offense|VNI - Vehicle Not Inspected Within 15 Days Of Vt. Registration'\n 'INS - Operating Without Liability Insurance|IR - Illuminations Required|INS - Operating Without Liability Insurance'\n 'OSC - Operating After Suspension/Revocation/Refusal- Second Offense|SL1 - 1-10 MPH Over Speed Limit|DLT - Driving On Roadways Laned For Traffic'\n 'FS - Flashing Signals|FYY - Stop Sign'\n 'OSC - Operating After Suspension/Revocation/Refusal- First Offense|BR - 11-20 MPH Over Speed Limit'\n 'Idling Motor Vehicle - 1st Violation'\n \"NLP - Operating Without Learner'S Permit|DDH - Driving On Divided Highways\"\n 'OSC - Operating After Suspension/Revocation/Refusal- First Offense|PNA - Misuse Of Number Plates|NR - Persons Required To Register|INS - Operating Without Liability Insurance'\n 'DP2 - Failed To Display Front And Rear Registration Plates|SIG - Signals Required'\n 'NL - Operating Without A License|POR - Passing On The Right'\n 'NL - Operating Without A License|CEL - Using Portable Electronic Device -  1st violation|TMD - Trespass By Motor Vehicle With Property Damage'\n 'PL - Possession Of License Certificate|FSO - Authority Of Enforcement Officer'\n 'CRS - Failure to use child restraint system- First offense|VNI - Vehicle Not Inspected Within 15 Days Of Vt. Registration'\n 'RMC - Riding On Motorcycles And Mopeds'\n 'OSC - Operating After Suspension/Revocation/Refusal- First Offense|TL - Tail Lights'\n 'OSC - Operating After Suspension/Revocation/Refusal- Second Offense|IR - Illuminations Required'\n 'SL3 - 21-30 MPH Over Speed Limit - Work Zone'\n 'NR - Persons Required To Register|INS - Operating Without Liability Insurance|DEF - Condition Of Vehicle|PNA - Misuse Of Number Plates|VO - Regulations In Municipalities'\n 'SL2 - 11-20 MPH Over Speed Limit|FYY - Stop Sign|POL - Passing On The Left'\n 'VO - Regulations In Municipalities|FYY - Stop Sign|NR - Persons Required To Register'\n 'FTC - Following Too Closely|CEL - Using Portable Electronic Device â€“ 1st violation'\n 'INS - Operating Without Liability Insurance|DEF - Condition Of Vehicle|DEF - Condition Of Vehicle'\n 'SL1 - 1-10 MPH Over Speed Limit|DP - Failed To Display Front Registration Plate']\n"
     ]
    }
   ],
   "source": [
    "print(vt.violation.unique())"
   ]
  },
  {
   "cell_type": "code",
   "execution_count": 50,
   "metadata": {},
   "outputs": [
    {
     "output_type": "stream",
     "name": "stdout",
     "text": [
      "                    raw_row_number        date      time  \\\ndatetime                                                   \n2013-10-10 00:19:00          11222  2013-10-10  00:19:00   \n2013-10-10 20:08:00          11240  2013-10-10  20:08:00   \n2013-10-10 21:05:00          11241  2013-10-10  21:05:00   \n2014-10-10 00:43:00          17694  2014-10-10  00:43:00   \n2014-10-10 16:47:00          17701  2014-10-10  16:47:00   \n...                            ...         ...       ...   \n2015-09-09 23:37:00    23854|23855  2015-09-09  23:37:00   \n2016-09-09 09:30:00          29408  2016-09-09  09:30:00   \n2016-09-09 14:41:00          29411  2016-09-09  14:41:00   \n2017-09-09 01:36:00          33082  2017-09-09  01:36:00   \n2017-09-09 20:16:00          33085  2017-09-09  20:16:00   \n\n                                                              location  \\\ndatetime                                                                 \n2013-10-10 00:19:00          Shelburne Rd at Flynn Ave, Burlington, VT   \n2013-10-10 20:08:00          Shelburne Rd at Alfred St, Burlington, VT   \n2013-10-10 21:05:00  North Ave at Starr Farm Rd, Burlington, VT, 05408   \n2014-10-10 00:43:00              No Ave at Institue Rd, Burlington, VT   \n2014-10-10 16:47:00      Shelburne Rd at Prospect Pkwy, Burlington, VT   \n...                                                                ...   \n2015-09-09 23:37:00               Flynn Ave at Pine St, Burlington, VT   \n2016-09-09 09:30:00          Shelburne Rd at Flynn Ave, Burlington, VT   \n2016-09-09 14:41:00           North Ave at Canfield St, Burlington, VT   \n2017-09-09 01:36:00             North St at N Union St, Burlington, VT   \n2017-09-09 20:16:00           S Prospect St at Main St, Burlington, VT   \n\n                           lat        lng  subject_age  \\\ndatetime                                                 \n2013-10-10 00:19:00  44.455134 -73.208575         50.0   \n2013-10-10 20:08:00  44.459592 -73.208177         43.0   \n2013-10-10 21:05:00  44.517154 -73.258678         22.0   \n2014-10-10 00:43:00  44.496323 -73.235261         26.0   \n2014-10-10 16:47:00  44.457201 -73.208388         18.0   \n...                        ...        ...          ...   \n2015-09-09 23:37:00  44.455424 -73.214187         32.0   \n2016-09-09 09:30:00  44.455134 -73.208575         22.0   \n2016-09-09 14:41:00  44.485226 -73.222975         46.0   \n2017-09-09 01:36:00  44.484844 -73.209640         29.0   \n2017-09-09 20:16:00  44.476349 -73.200697         37.0   \n\n                               subject_race subject_sex  \\\ndatetime                                                  \n2013-10-10 00:19:00  asian/pacific islander        male   \n2013-10-10 20:08:00                   white        male   \n2013-10-10 21:05:00                   white        male   \n2014-10-10 00:43:00                   white        male   \n2014-10-10 16:47:00                   white        male   \n...                                     ...         ...   \n2015-09-09 23:37:00                   white        male   \n2016-09-09 09:30:00                   white      female   \n2016-09-09 14:41:00                   white      female   \n2017-09-09 01:36:00                   white      female   \n2017-09-09 20:16:00                   white        male   \n\n                                  department_name  ... citation_issued  \\\ndatetime                                           ...                   \n2013-10-10 00:19:00  Burlington Police Department  ...           False   \n2013-10-10 20:08:00  Burlington Police Department  ...           False   \n2013-10-10 21:05:00  Burlington Police Department  ...            True   \n2014-10-10 00:43:00  Burlington Police Department  ...           False   \n2014-10-10 16:47:00  Burlington Police Department  ...            True   \n...                                           ...  ...             ...   \n2015-09-09 23:37:00  Burlington Police Department  ...            True   \n2016-09-09 09:30:00  Burlington Police Department  ...           False   \n2016-09-09 14:41:00  Burlington Police Department  ...           False   \n2017-09-09 01:36:00  Burlington Police Department  ...           False   \n2017-09-09 20:16:00  Burlington Police Department  ...           False   \n\n                    warning_issued   outcome  search_conducted  \\\ndatetime                                                         \n2013-10-10 00:19:00           True   warning             False   \n2013-10-10 20:08:00           True   warning             False   \n2013-10-10 21:05:00          False  citation             False   \n2014-10-10 00:43:00           True   warning             False   \n2014-10-10 16:47:00          False  citation             False   \n...                            ...       ...               ...   \n2015-09-09 23:37:00           True  citation             False   \n2016-09-09 09:30:00           True   warning             False   \n2016-09-09 14:41:00           True   warning             False   \n2017-09-09 01:36:00           True   warning             False   \n2017-09-09 20:16:00           True   warning             False   \n\n                          reason_for_stop vehicle_registration_state  \\\ndatetime                                                               \n2013-10-10 00:19:00  M = Moving violation                        NaN   \n2013-10-10 20:08:00  M = Moving violation                        NaN   \n2013-10-10 21:05:00  M = Moving violation                        NaN   \n2014-10-10 00:43:00  M = Moving violation                        NaN   \n2014-10-10 16:47:00  M = Moving violation                        NaN   \n...                                   ...                        ...   \n2015-09-09 23:37:00  M = Moving violation                        NaN   \n2016-09-09 09:30:00   O = Other violation                        NaN   \n2016-09-09 14:41:00  M = Moving violation                        NaN   \n2017-09-09 01:36:00  M = Moving violation                        NaN   \n2017-09-09 20:16:00  M = Moving violation                        NaN   \n\n                     raw_race  raw_gender           raw_contraband_evidence  \\\ndatetime                                                                      \n2013-10-10 00:19:00     Asian    Male - M    X = Not applicable / no search   \n2013-10-10 20:08:00     White    Male - M    X = Not applicable / no search   \n2013-10-10 21:05:00     White    Male - M  C = Contraband or evidence found   \n2014-10-10 00:43:00     White    Male - M    X = Not applicable / no search   \n2014-10-10 16:47:00     White    Male - M    X = Not applicable / no search   \n...                       ...         ...                               ...   \n2015-09-09 23:37:00     White    Male - M    X = Not applicable / no search   \n2016-09-09 09:30:00     White  Female - F    X = Not applicable / no search   \n2016-09-09 14:41:00     White  Female - F    X = Not applicable / no search   \n2017-09-09 01:36:00     White  Female - F    X = Not applicable / no search   \n2017-09-09 20:16:00     White    Male - M    X = Not applicable / no search   \n\n                        raw_outcome_of_stop  \ndatetime                                     \n2013-10-10 00:19:00             W = Warning  \n2013-10-10 20:08:00             W = Warning  \n2013-10-10 21:05:00              T = Ticket  \n2014-10-10 00:43:00             W = Warning  \n2014-10-10 16:47:00              T = Ticket  \n...                                     ...  \n2015-09-09 23:37:00  T = Ticket|W = Warning  \n2016-09-09 09:30:00             W = Warning  \n2016-09-09 14:41:00             W = Warning  \n2017-09-09 01:36:00             W = Warning  \n2017-09-09 20:16:00             W = Warning  \n\n[4354 rows x 23 columns]\n"
     ]
    }
   ],
   "source": [
    "print(vt[vt['violation'].str.contains('MPH Over Speed Limit', na=False)])"
   ]
  },
  {
   "cell_type": "code",
   "execution_count": 54,
   "metadata": {},
   "outputs": [],
   "source": [
    "#dataframe for violations over the speed limit\n",
    "over_speed_limit=vt[vt['violation'].str.contains('MPH Over Speed Limit', na=False)]"
   ]
  },
  {
   "cell_type": "code",
   "execution_count": 62,
   "metadata": {},
   "outputs": [
    {
     "output_type": "stream",
     "name": "stdout",
     "text": [
      "lat                 44.453980\nlng                -73.245387\nsubject_age         34.186605\narrest_made          0.014469\ncitation_issued      0.313045\nwarning_issued       0.698898\nsearch_conducted     0.006661\ndtype: float64\n"
     ]
    }
   ],
   "source": [
    "print(over_speed_limit.mean())"
   ]
  },
  {
   "cell_type": "code",
   "execution_count": null,
   "metadata": {},
   "outputs": [],
   "source": []
  }
 ]
}